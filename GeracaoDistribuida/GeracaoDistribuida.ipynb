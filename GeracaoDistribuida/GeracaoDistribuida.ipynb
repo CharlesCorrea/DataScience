{
 "cells": [
  {
   "cell_type": "markdown",
   "id": "29ceed4a-2fa1-40aa-9dc1-6cb710da94a5",
   "metadata": {},
   "source": [
    "## Projeto: Exploração e visualização de dados de Empreendimentos de Geração Distribuída no Brasil. \n",
    "\n",
    "O objetivo deste projeto é explorar os dados sobre a geração distribuída no Brasil buscando insights sobre como, onde e por quem essa energia é gerada bem como, a potência instalada. Para esse estudo utilizaremos Python juntamente com as principais bibliotecas para análise de dados e o Jupyter Notebook para deixar o trabalho bem organizado.\n",
    "\n",
    "<u>Uma breve introdução sobre a geração distribuída</u>: Desde 17 de abril de 2012, quando entrou em vigor a Resolução Normativa ANEEL nº 482/2012, o consumidor brasileiro pode gerar sua própria energia elétrica a partir de fontes renováveis ou cogeração qualificada e inclusive fornecer o excedente para a rede de distribuição de sua localidade. Trata-se da micro e da minigeração distribuídas de energia elétrica, inovações que podem aliar economia financeira, consciência socioambiental e autossustentabilidade.\n",
    "\n",
    "Segundo as novas regras, que começaram a valer em 1º de março de 2016, é permitido o uso de qualquer fonte renovável, além da cogeração qualificada, denominando-se microgeração distribuída a central geradora com potência instalada até 75 quilowatts (KW) e minigeração distribuída aquela com potência acima de 75 kW e menor ou igual a 5 MW, conectadas na rede de distribuição por meio de instalações de unidades consumidoras.\n",
    "\n",
    "Fonte: https://www.aneel.gov.br/geracao-distribuida <br>\n",
    "\n",
    "Autor: Charles Corrêa <br>\n",
    "Contato: charlesccorrea@gmail.com <br>\n",
    "Linkedin: www.linkedin.com/in/charlesccorrea"
   ]
  },
  {
   "cell_type": "markdown",
   "id": "b36a56f6-a39d-480a-b1f1-435865918312",
   "metadata": {},
   "source": [
    "## Um pouco sobre os dados.\n",
    "\n",
    "Para que possamos analisar os dados precisamos saber como estes estão dispostos. Segue abaixo um dicionário dos dados com os quais vamos trabalhar.\n",
    "\n",
    "<u>IdeEmpGeracaoDistribuida</u>: Identificador único da tabela Empreendimento de Geração Distribuída.\n",
    "\n",
    "<u>IdeDistribuidora</u>: Identificador do Agente de distribuição ao qual está vinculada a unidade consumidora.\n",
    "\n",
    "<u>NomDistribuidora</u>: Nome do agente empreendimento, formado pelas iniciais, unidade da federação e número identificador.\n",
    "\n",
    "<u>CodEmpGeracaoDistribuida</u>: Código único de Geração Distribuída, criado para identificar única e inequivocamente o empreendimento de Geração Distribuída de energia elétrica.\n",
    "\n",
    "<u>CodNucleoGD</u>: Núcleo numérico isolado do Código de Geração Distribuída, para fins de consulta rápida em ferramentas de pesquisa.\n",
    "\n",
    "<u>DscClasseFornecimento</u>: Descrição dos diferentes tipos de classes de fornecimento disponíveis em: Comercial, Iluminação pública, Industrial, Poder Público, Residencial, Rural, Serviço Público.\n",
    "\n",
    "<u>DscGrupoFornecimento</u>: Descrição dos diferentes tipos de grupos de fornecimento disponíveis em:\n",
    "\n",
    "    Alta Tensão = 88 kV ou mais\n",
    "    Média Tensão = 2,3 kV até 69 kV\n",
    "    Tarifação binômia, consumo (kWh) e demanda (kW)\n",
    "        A1 - 230 kV ou mais\n",
    "        A2 - 88 kV a 138 kV\n",
    "        A3 - 69 kV\n",
    "        A3a - 30 kV a 44 kV\n",
    "        A4 - 2,3 kV a 25 kV\n",
    "        AS - Baixa Tensão (enquadramento tarifário)\n",
    "    Grupo B (Baixa Tensão - inferior aos 2.300 Volts)\n",
    "    Tarifação monômia, consumo (kWh)\n",
    "        B1 - Residencial\n",
    "        B2 - Rural\n",
    "        B3 - Demais Classes\n",
    "        B4 - Iluminação Pública\n",
    "\n",
    "<u>NomPessoaTitular</u>: Nome do titular do empreendimento de geração.\n",
    "\n",
    "<u>DatSituacao</u>: Data da última atualização cadastral do empreendimento de distribuição.\n",
    "\n",
    "<u>SigTipoUC</u>: Sigla do tipo de energia do empreendimento de geração. Classificado em:\n",
    "\n",
    "    Tipos de Usinas: \n",
    "        UHE - Usinas Hidrelétricas \n",
    "        UTE - Usinas Termelétricas \n",
    "        PCH - Pequenas Centrais Hidrelétricas \n",
    "        EOL - Usinas Eolioelétricas \n",
    "        UTN - Usinas Termonucleares \n",
    "        SOL - Fontes Alternativas de Energia \n",
    "        CGH - Central Geradora Hidrelétrica\n",
    "\n",
    "<u>MdaPotenciaInstaladaKW</u>: Armazena os dados expressos em quantidades e potência instalada em kW (quilowatt), definida pela somatória das potências elétricas ativas nominais dos módulos da central de geração distribuída.\n",
    "\n",
    "<u>DscCombustivel</u>: Descrição da fonte de combustível para a geração de energia.\n",
    "\n",
    "<u>NomMunicipio</u>: Nome do município de instalação do empreendimento de distribuição.\n",
    "\n",
    "<u>SigUF</u>: Sigla da unidade federativa de instalação do empreendimento de distribuição.\n",
    "\n",
    "<u>QtdUCResponsavel</u>: Quantidade de responsáveis pelo empreendimento de distribuição.\n",
    "\n",
    "<u>DscModalidadeConsumo</u>: Modalidade ao qual o empreendimento de geração está habilitado, classificado em:\n",
    "    \n",
    "    Autoconsumo Remoto, \n",
    "    Geração na Própria UC, \n",
    "    Geração em Condomínio.\n",
    "    \n",
    "<u>DscSituacaoUC</u>: Descrição da situação estrutural do empreendimento de geração, classificado em: Completo, Incompleto e Excluído.\n",
    "\n",
    "<u>DatConexao</u>: Data da última atualização cadastral do empreendimento de distribuição.\n",
    "\n",
    "<u>DthProcessamento</u>: Data e hora do processamento de carga automático.\n",
    "\n",
    "Fonte dos dados: https://dados.gov.br/dataset/geracao-distribuida-relacao-empreendimentos\n"
   ]
  },
  {
   "cell_type": "code",
   "execution_count": 1,
   "id": "68f548b5-97fb-46d1-98e5-bf5872d036a5",
   "metadata": {},
   "outputs": [],
   "source": [
    "# Importando as bibliotecas.\n",
    "\n",
    "import numpy as np\n",
    "import pandas as pd\n",
    "import matplotlib.pyplot as plt\n",
    "import seaborn as sns\n",
    "import warnings \n",
    "import chardet\n",
    "import folium \n",
    "from folium import plugins\n",
    "\n",
    "# Ignorando warnings.\n",
    "warnings.filterwarnings('ignore')\n",
    "\n",
    "# Para exibir os gráficos dentro da célula do Jupyter.\n",
    "%matplotlib inline"
   ]
  },
  {
   "cell_type": "code",
   "execution_count": 2,
   "id": "89aeb1fe-eb97-49e8-b2b3-4ade24b76351",
   "metadata": {},
   "outputs": [
    {
     "name": "stdout",
     "output_type": "stream",
     "text": [
      "seaborn   : 0.11.1\n",
      "folium    : 0.12.1\n",
      "matplotlib: 3.3.4\n",
      "pandas    : 1.2.4\n",
      "chardet   : 4.0.0\n",
      "numpy     : 1.19.5\n",
      "\n"
     ]
    }
   ],
   "source": [
    "# Exibindo a versão dos pacotes utilizados para que possam instalá-los, caso queiram executar esse Jupyter Notebook na máquina de vocês.\n",
    "\n",
    "%reload_ext watermark\n",
    "%watermark --iversions"
   ]
  },
  {
   "cell_type": "code",
   "execution_count": 3,
   "id": "6b2ef432-705c-49bc-9783-e5b3e7bf55dc",
   "metadata": {},
   "outputs": [
    {
     "name": "stdout",
     "output_type": "stream",
     "text": [
      "Encoding: ISO-8859-1\n"
     ]
    }
   ],
   "source": [
    "# Detectando o charset do dataset lendo apenas uma fração dos dados.\n",
    "# As vezes o conjunto de dados vem com um encoding e alguns caracteres podem eventualmente não ser exibidos corretamente.\n",
    "# Para evitarmos esse tipo de problema, podemos utilizar o pacote chardet para descobrir o encoding dos dados.\n",
    "\n",
    "with open('EmpGeracaoDistribuida.json', 'rb') as f:\n",
    "    data = f.read(500000)\n",
    "    ds_encoding = chardet.detect(data).get('encoding')\n",
    "\n",
    "print('Encoding:', ds_encoding)"
   ]
  },
  {
   "cell_type": "code",
   "execution_count": 4,
   "id": "8cecbdba-310f-4484-8855-f7663e3b05f5",
   "metadata": {},
   "outputs": [],
   "source": [
    "# Carregando os dados já passando o encoding retornado na célula acima.\n",
    "# Os dados foram baixados no formato json.\n",
    "\n",
    "dfGeracao = pd.read_json('EmpGeracaoDistribuida.json', encoding = ds_encoding)"
   ]
  },
  {
   "cell_type": "code",
   "execution_count": 5,
   "id": "a073bef7-0c1e-4bb9-a678-7e627481851d",
   "metadata": {},
   "outputs": [
    {
     "data": {
      "text/plain": [
       "(319491, 19)"
      ]
     },
     "execution_count": 5,
     "metadata": {},
     "output_type": "execute_result"
    }
   ],
   "source": [
    "# Visualizando o tamanho do dataset.\n",
    "\n",
    "dfGeracao.shape"
   ]
  },
  {
   "cell_type": "markdown",
   "id": "c765cb10-5161-405b-89f7-88212c68c1dc",
   "metadata": {},
   "source": [
    "Temos então um dataframe do pandas com 319491 e 19 colunas."
   ]
  },
  {
   "cell_type": "code",
   "execution_count": 6,
   "id": "473e8fc5-a817-4c7d-8556-63303ab49890",
   "metadata": {},
   "outputs": [
    {
     "data": {
      "text/html": [
       "<div>\n",
       "<style scoped>\n",
       "    .dataframe tbody tr th:only-of-type {\n",
       "        vertical-align: middle;\n",
       "    }\n",
       "\n",
       "    .dataframe tbody tr th {\n",
       "        vertical-align: top;\n",
       "    }\n",
       "\n",
       "    .dataframe thead th {\n",
       "        text-align: right;\n",
       "    }\n",
       "</style>\n",
       "<table border=\"1\" class=\"dataframe\">\n",
       "  <thead>\n",
       "    <tr style=\"text-align: right;\">\n",
       "      <th></th>\n",
       "      <th>nomMunicipio</th>\n",
       "      <th>codEmpGeracaoDistribuida</th>\n",
       "      <th>nomPessoaTitular</th>\n",
       "      <th>ideEmpGeracaoDistribuida</th>\n",
       "      <th>mdaPotenciaInstaladaKW</th>\n",
       "      <th>ideDistribuidora</th>\n",
       "      <th>dthProcessamento</th>\n",
       "      <th>dscCombustivel</th>\n",
       "      <th>dscGrupoFornecimento</th>\n",
       "      <th>sigTipoUC</th>\n",
       "      <th>dscModalidadeConsumo</th>\n",
       "      <th>codNucleoGD</th>\n",
       "      <th>dscClasseFornecimento</th>\n",
       "      <th>sigUF</th>\n",
       "      <th>dscSituacaoUC</th>\n",
       "      <th>qtdUCResponsavel</th>\n",
       "      <th>datSituacao</th>\n",
       "      <th>datConexao</th>\n",
       "      <th>nomDistribuidora</th>\n",
       "    </tr>\n",
       "  </thead>\n",
       "  <tbody>\n",
       "    <tr>\n",
       "      <th>0</th>\n",
       "      <td>Porto Alegre</td>\n",
       "      <td>GD.RS.000.056.189</td>\n",
       "      <td>JOAO EDUARDO DA SILVA FONTANA</td>\n",
       "      <td>1</td>\n",
       "      <td>2.6</td>\n",
       "      <td>4273</td>\n",
       "      <td>24/10/2020 00:00:00</td>\n",
       "      <td>Radiação solar</td>\n",
       "      <td>B1</td>\n",
       "      <td>UFV</td>\n",
       "      <td>Geração na Própria UC</td>\n",
       "      <td>56189</td>\n",
       "      <td>Residencial</td>\n",
       "      <td>RS</td>\n",
       "      <td>Completa</td>\n",
       "      <td>1</td>\n",
       "      <td>07/02/2019</td>\n",
       "      <td>15/10/2018</td>\n",
       "      <td>COMPANHIA ESTADUAL DE DISTRIBUIÇÃO DE ENERGIA ...</td>\n",
       "    </tr>\n",
       "    <tr>\n",
       "      <th>1</th>\n",
       "      <td>Porto Alegre</td>\n",
       "      <td>GD.RS.000.192.966</td>\n",
       "      <td>SANDRA DE LOURDES TROMBETTA SILVA</td>\n",
       "      <td>2</td>\n",
       "      <td>3.0</td>\n",
       "      <td>4273</td>\n",
       "      <td>24/10/2020 00:00:00</td>\n",
       "      <td>Radiação solar</td>\n",
       "      <td>B1</td>\n",
       "      <td>UFV</td>\n",
       "      <td>Geração na Própria UC</td>\n",
       "      <td>192966</td>\n",
       "      <td>Residencial</td>\n",
       "      <td>RS</td>\n",
       "      <td>Completa</td>\n",
       "      <td>1</td>\n",
       "      <td>02/03/2020</td>\n",
       "      <td>03/02/2020</td>\n",
       "      <td>COMPANHIA ESTADUAL DE DISTRIBUIÇÃO DE ENERGIA ...</td>\n",
       "    </tr>\n",
       "  </tbody>\n",
       "</table>\n",
       "</div>"
      ],
      "text/plain": [
       "   nomMunicipio codEmpGeracaoDistribuida                   nomPessoaTitular  \\\n",
       "0  Porto Alegre     GD.RS.000.056.189         JOAO EDUARDO DA SILVA FONTANA   \n",
       "1  Porto Alegre     GD.RS.000.192.966     SANDRA DE LOURDES TROMBETTA SILVA   \n",
       "\n",
       "   ideEmpGeracaoDistribuida  mdaPotenciaInstaladaKW  ideDistribuidora  \\\n",
       "0                         1                     2.6              4273   \n",
       "1                         2                     3.0              4273   \n",
       "\n",
       "      dthProcessamento  dscCombustivel dscGrupoFornecimento sigTipoUC  \\\n",
       "0  24/10/2020 00:00:00  Radiação solar                   B1       UFV   \n",
       "1  24/10/2020 00:00:00  Radiação solar                   B1       UFV   \n",
       "\n",
       "    dscModalidadeConsumo  codNucleoGD dscClasseFornecimento sigUF  \\\n",
       "0  Geração na Própria UC        56189           Residencial    RS   \n",
       "1  Geração na Própria UC       192966           Residencial    RS   \n",
       "\n",
       "  dscSituacaoUC  qtdUCResponsavel datSituacao  datConexao  \\\n",
       "0      Completa                 1  07/02/2019  15/10/2018   \n",
       "1      Completa                 1  02/03/2020  03/02/2020   \n",
       "\n",
       "                                    nomDistribuidora  \n",
       "0  COMPANHIA ESTADUAL DE DISTRIBUIÇÃO DE ENERGIA ...  \n",
       "1  COMPANHIA ESTADUAL DE DISTRIBUIÇÃO DE ENERGIA ...  "
      ]
     },
     "execution_count": 6,
     "metadata": {},
     "output_type": "execute_result"
    }
   ],
   "source": [
    "# Visualizando algumas observações (registros) do dataset.\n",
    "\n",
    "dfGeracao.head(2)"
   ]
  },
  {
   "cell_type": "markdown",
   "id": "a620bf16-aa1d-445e-9b8e-9e73259d21f6",
   "metadata": {},
   "source": [
    "Podemos observar que temos no dataset algumas colunas que não são importantes para uma análise de dados, neste caso. \n",
    "Geralmente são colunas contendo ids, códigos e nomes. \n",
    "Portanto, para manter o dataset menor vamos remover algumas colunas com as quais não iremos trabalhar. São elas:\n",
    "codEmpGeracaoDistribuida, nomPessoaTitular, ideEmpGeracaoDistribuida, ideDistribuidora, dthProcessamento, codNucleoGD e datSituacao."
   ]
  },
  {
   "cell_type": "code",
   "execution_count": 7,
   "id": "4fa95b0f-1447-4336-99fc-519f491d3336",
   "metadata": {},
   "outputs": [
    {
     "data": {
      "text/html": [
       "<div>\n",
       "<style scoped>\n",
       "    .dataframe tbody tr th:only-of-type {\n",
       "        vertical-align: middle;\n",
       "    }\n",
       "\n",
       "    .dataframe tbody tr th {\n",
       "        vertical-align: top;\n",
       "    }\n",
       "\n",
       "    .dataframe thead th {\n",
       "        text-align: right;\n",
       "    }\n",
       "</style>\n",
       "<table border=\"1\" class=\"dataframe\">\n",
       "  <thead>\n",
       "    <tr style=\"text-align: right;\">\n",
       "      <th></th>\n",
       "      <th>nomMunicipio</th>\n",
       "      <th>mdaPotenciaInstaladaKW</th>\n",
       "      <th>dscCombustivel</th>\n",
       "      <th>dscGrupoFornecimento</th>\n",
       "      <th>sigTipoUC</th>\n",
       "      <th>dscModalidadeConsumo</th>\n",
       "      <th>dscClasseFornecimento</th>\n",
       "      <th>sigUF</th>\n",
       "      <th>dscSituacaoUC</th>\n",
       "      <th>qtdUCResponsavel</th>\n",
       "      <th>datConexao</th>\n",
       "      <th>nomDistribuidora</th>\n",
       "    </tr>\n",
       "  </thead>\n",
       "  <tbody>\n",
       "    <tr>\n",
       "      <th>0</th>\n",
       "      <td>Porto Alegre</td>\n",
       "      <td>2.6</td>\n",
       "      <td>Radiação solar</td>\n",
       "      <td>B1</td>\n",
       "      <td>UFV</td>\n",
       "      <td>Geração na Própria UC</td>\n",
       "      <td>Residencial</td>\n",
       "      <td>RS</td>\n",
       "      <td>Completa</td>\n",
       "      <td>1</td>\n",
       "      <td>15/10/2018</td>\n",
       "      <td>COMPANHIA ESTADUAL DE DISTRIBUIÇÃO DE ENERGIA ...</td>\n",
       "    </tr>\n",
       "    <tr>\n",
       "      <th>1</th>\n",
       "      <td>Porto Alegre</td>\n",
       "      <td>3.0</td>\n",
       "      <td>Radiação solar</td>\n",
       "      <td>B1</td>\n",
       "      <td>UFV</td>\n",
       "      <td>Geração na Própria UC</td>\n",
       "      <td>Residencial</td>\n",
       "      <td>RS</td>\n",
       "      <td>Completa</td>\n",
       "      <td>1</td>\n",
       "      <td>03/02/2020</td>\n",
       "      <td>COMPANHIA ESTADUAL DE DISTRIBUIÇÃO DE ENERGIA ...</td>\n",
       "    </tr>\n",
       "  </tbody>\n",
       "</table>\n",
       "</div>"
      ],
      "text/plain": [
       "   nomMunicipio  mdaPotenciaInstaladaKW  dscCombustivel dscGrupoFornecimento  \\\n",
       "0  Porto Alegre                     2.6  Radiação solar                   B1   \n",
       "1  Porto Alegre                     3.0  Radiação solar                   B1   \n",
       "\n",
       "  sigTipoUC   dscModalidadeConsumo dscClasseFornecimento sigUF dscSituacaoUC  \\\n",
       "0       UFV  Geração na Própria UC           Residencial    RS      Completa   \n",
       "1       UFV  Geração na Própria UC           Residencial    RS      Completa   \n",
       "\n",
       "   qtdUCResponsavel  datConexao  \\\n",
       "0                 1  15/10/2018   \n",
       "1                 1  03/02/2020   \n",
       "\n",
       "                                    nomDistribuidora  \n",
       "0  COMPANHIA ESTADUAL DE DISTRIBUIÇÃO DE ENERGIA ...  \n",
       "1  COMPANHIA ESTADUAL DE DISTRIBUIÇÃO DE ENERGIA ...  "
      ]
     },
     "execution_count": 7,
     "metadata": {},
     "output_type": "execute_result"
    }
   ],
   "source": [
    "# Removendo as colunas que não serão utilizadas.\n",
    "\n",
    "colRemover = ['codEmpGeracaoDistribuida', 'nomPessoaTitular', 'ideEmpGeracaoDistribuida', 'ideDistribuidora', 'dthProcessamento', 'codNucleoGD', 'datSituacao']\n",
    "dfGeracao.drop(colRemover, axis = 1, inplace = True)\n",
    "dfGeracao.head(2)"
   ]
  },
  {
   "cell_type": "code",
   "execution_count": 8,
   "id": "ca7b1b97-e403-4cd6-a08d-496c9c319173",
   "metadata": {},
   "outputs": [
    {
     "name": "stdout",
     "output_type": "stream",
     "text": [
      "<class 'pandas.core.frame.DataFrame'>\n",
      "RangeIndex: 319491 entries, 0 to 319490\n",
      "Data columns (total 12 columns):\n",
      " #   Column                  Non-Null Count   Dtype  \n",
      "---  ------                  --------------   -----  \n",
      " 0   nomMunicipio            319491 non-null  object \n",
      " 1   mdaPotenciaInstaladaKW  319491 non-null  float64\n",
      " 2   dscCombustivel          319491 non-null  object \n",
      " 3   dscGrupoFornecimento    319491 non-null  object \n",
      " 4   sigTipoUC               319491 non-null  object \n",
      " 5   dscModalidadeConsumo    319491 non-null  object \n",
      " 6   dscClasseFornecimento   319491 non-null  object \n",
      " 7   sigUF                   319491 non-null  object \n",
      " 8   dscSituacaoUC           319491 non-null  object \n",
      " 9   qtdUCResponsavel        319491 non-null  int64  \n",
      " 10  datConexao              319491 non-null  object \n",
      " 11  nomDistribuidora        319491 non-null  object \n",
      "dtypes: float64(1), int64(1), object(10)\n",
      "memory usage: 29.3+ MB\n"
     ]
    }
   ],
   "source": [
    "# Verificando algumas informações sobre os dados.\n",
    "\n",
    "dfGeracao.info()"
   ]
  },
  {
   "cell_type": "markdown",
   "id": "62d70242-4f56-4d49-aa71-9f2e83e9aea1",
   "metadata": {},
   "source": [
    "Pelo resumo, observamos que a maioria das colunas foi importada para o pandas como do tipo object. \n",
    "Podemos verificar também nesse resumo que, não temos valores nulos em nenhuma das colunas. \n",
    "Apenas 2 colunas foram reconhecidas como valores numéricos e tipadas como float64 e int64, são elas 'mdaPotenciaInstaladaKW' e 'qtdUCResponsavel', respectivamente.\n",
    "Portanto, para estas colunas o pandas pode nos mostrar um resumo estatístico."
   ]
  },
  {
   "cell_type": "code",
   "execution_count": 9,
   "id": "4c972bbb-b401-4509-912d-67801b5fd9a0",
   "metadata": {},
   "outputs": [
    {
     "data": {
      "text/html": [
       "<div>\n",
       "<style scoped>\n",
       "    .dataframe tbody tr th:only-of-type {\n",
       "        vertical-align: middle;\n",
       "    }\n",
       "\n",
       "    .dataframe tbody tr th {\n",
       "        vertical-align: top;\n",
       "    }\n",
       "\n",
       "    .dataframe thead th {\n",
       "        text-align: right;\n",
       "    }\n",
       "</style>\n",
       "<table border=\"1\" class=\"dataframe\">\n",
       "  <thead>\n",
       "    <tr style=\"text-align: right;\">\n",
       "      <th></th>\n",
       "      <th>mdaPotenciaInstaladaKW</th>\n",
       "      <th>qtdUCResponsavel</th>\n",
       "    </tr>\n",
       "  </thead>\n",
       "  <tbody>\n",
       "    <tr>\n",
       "      <th>count</th>\n",
       "      <td>319491.000000</td>\n",
       "      <td>319491.000000</td>\n",
       "    </tr>\n",
       "    <tr>\n",
       "      <th>mean</th>\n",
       "      <td>12.875022</td>\n",
       "      <td>1.314056</td>\n",
       "    </tr>\n",
       "    <tr>\n",
       "      <th>std</th>\n",
       "      <td>62.364775</td>\n",
       "      <td>11.608577</td>\n",
       "    </tr>\n",
       "    <tr>\n",
       "      <th>min</th>\n",
       "      <td>0.000000</td>\n",
       "      <td>1.000000</td>\n",
       "    </tr>\n",
       "    <tr>\n",
       "      <th>25%</th>\n",
       "      <td>3.000000</td>\n",
       "      <td>1.000000</td>\n",
       "    </tr>\n",
       "    <tr>\n",
       "      <th>50%</th>\n",
       "      <td>5.000000</td>\n",
       "      <td>1.000000</td>\n",
       "    </tr>\n",
       "    <tr>\n",
       "      <th>75%</th>\n",
       "      <td>10.000000</td>\n",
       "      <td>1.000000</td>\n",
       "    </tr>\n",
       "    <tr>\n",
       "      <th>max</th>\n",
       "      <td>5000.000000</td>\n",
       "      <td>3261.000000</td>\n",
       "    </tr>\n",
       "  </tbody>\n",
       "</table>\n",
       "</div>"
      ],
      "text/plain": [
       "       mdaPotenciaInstaladaKW  qtdUCResponsavel\n",
       "count           319491.000000     319491.000000\n",
       "mean                12.875022          1.314056\n",
       "std                 62.364775         11.608577\n",
       "min                  0.000000          1.000000\n",
       "25%                  3.000000          1.000000\n",
       "50%                  5.000000          1.000000\n",
       "75%                 10.000000          1.000000\n",
       "max               5000.000000       3261.000000"
      ]
     },
     "execution_count": 9,
     "metadata": {},
     "output_type": "execute_result"
    }
   ],
   "source": [
    "# Resumo estatístico do dataframe.\n",
    "\n",
    "dfGeracao.describe()"
   ]
  },
  {
   "cell_type": "markdown",
   "id": "633e337d-285d-4f9d-8657-d6bef4886c9b",
   "metadata": {},
   "source": [
    "Para ambas colunas 'mdaPotenciaInstaladaKW' e 'qtdUCResponsavel' temos um desvio padrão muito alto em relação à média. Isto indica que os pontos estão espalhados, longe da média."
   ]
  },
  {
   "cell_type": "code",
   "execution_count": 10,
   "id": "137aca50-fda0-4ab7-a9ec-6a2cb1129ec7",
   "metadata": {},
   "outputs": [],
   "source": [
    "# Criando um sumário estatístico para todas as variáveis.\n",
    "\n",
    "sumario = pd.DataFrame(index = dfGeracao.columns)\n",
    "sumario['Tipo de dado'] = dfGeracao.dtypes.values\n",
    "sumario['# valores únicos'] = dfGeracao.nunique().values"
   ]
  },
  {
   "cell_type": "code",
   "execution_count": 11,
   "id": "042d6592-dfaf-453b-ab94-73f6a3c1f071",
   "metadata": {},
   "outputs": [
    {
     "data": {
      "text/html": [
       "<div>\n",
       "<style scoped>\n",
       "    .dataframe tbody tr th:only-of-type {\n",
       "        vertical-align: middle;\n",
       "    }\n",
       "\n",
       "    .dataframe tbody tr th {\n",
       "        vertical-align: top;\n",
       "    }\n",
       "\n",
       "    .dataframe thead th {\n",
       "        text-align: right;\n",
       "    }\n",
       "</style>\n",
       "<table border=\"1\" class=\"dataframe\">\n",
       "  <thead>\n",
       "    <tr style=\"text-align: right;\">\n",
       "      <th></th>\n",
       "      <th>Tipo de dado</th>\n",
       "      <th># valores únicos</th>\n",
       "      <th>Mais coumns</th>\n",
       "    </tr>\n",
       "  </thead>\n",
       "  <tbody>\n",
       "    <tr>\n",
       "      <th>nomMunicipio</th>\n",
       "      <td>object</td>\n",
       "      <td>4848</td>\n",
       "      <td>Rio de Janeiro</td>\n",
       "    </tr>\n",
       "    <tr>\n",
       "      <th>mdaPotenciaInstaladaKW</th>\n",
       "      <td>float64</td>\n",
       "      <td>3536</td>\n",
       "      <td>5.0</td>\n",
       "    </tr>\n",
       "    <tr>\n",
       "      <th>dscCombustivel</th>\n",
       "      <td>object</td>\n",
       "      <td>14</td>\n",
       "      <td>Radiação solar</td>\n",
       "    </tr>\n",
       "    <tr>\n",
       "      <th>dscGrupoFornecimento</th>\n",
       "      <td>object</td>\n",
       "      <td>10</td>\n",
       "      <td>B1</td>\n",
       "    </tr>\n",
       "    <tr>\n",
       "      <th>sigTipoUC</th>\n",
       "      <td>object</td>\n",
       "      <td>4</td>\n",
       "      <td>UFV</td>\n",
       "    </tr>\n",
       "    <tr>\n",
       "      <th>dscModalidadeConsumo</th>\n",
       "      <td>object</td>\n",
       "      <td>3</td>\n",
       "      <td>Geração na Própria UC</td>\n",
       "    </tr>\n",
       "    <tr>\n",
       "      <th>dscClasseFornecimento</th>\n",
       "      <td>object</td>\n",
       "      <td>7</td>\n",
       "      <td>Residencial</td>\n",
       "    </tr>\n",
       "    <tr>\n",
       "      <th>sigUF</th>\n",
       "      <td>object</td>\n",
       "      <td>27</td>\n",
       "      <td>MG</td>\n",
       "    </tr>\n",
       "    <tr>\n",
       "      <th>dscSituacaoUC</th>\n",
       "      <td>object</td>\n",
       "      <td>6</td>\n",
       "      <td>Completa</td>\n",
       "    </tr>\n",
       "    <tr>\n",
       "      <th>qtdUCResponsavel</th>\n",
       "      <td>int64</td>\n",
       "      <td>85</td>\n",
       "      <td>1</td>\n",
       "    </tr>\n",
       "    <tr>\n",
       "      <th>datConexao</th>\n",
       "      <td>object</td>\n",
       "      <td>2204</td>\n",
       "      <td>26/03/2020</td>\n",
       "    </tr>\n",
       "    <tr>\n",
       "      <th>nomDistribuidora</th>\n",
       "      <td>object</td>\n",
       "      <td>106</td>\n",
       "      <td>CEMIG DISTRIBUIÇÃO S.A</td>\n",
       "    </tr>\n",
       "  </tbody>\n",
       "</table>\n",
       "</div>"
      ],
      "text/plain": [
       "                       Tipo de dado  # valores únicos             Mais coumns\n",
       "nomMunicipio                 object              4848          Rio de Janeiro\n",
       "mdaPotenciaInstaladaKW      float64              3536                     5.0\n",
       "dscCombustivel               object                14          Radiação solar\n",
       "dscGrupoFornecimento         object                10                      B1\n",
       "sigTipoUC                    object                 4                     UFV\n",
       "dscModalidadeConsumo         object                 3   Geração na Própria UC\n",
       "dscClasseFornecimento        object                 7             Residencial\n",
       "sigUF                        object                27                      MG\n",
       "dscSituacaoUC                object                 6                Completa\n",
       "qtdUCResponsavel              int64                85                       1\n",
       "datConexao                   object              2204              26/03/2020\n",
       "nomDistribuidora             object               106  CEMIG DISTRIBUIÇÃO S.A"
      ]
     },
     "execution_count": 11,
     "metadata": {},
     "output_type": "execute_result"
    }
   ],
   "source": [
    "# Adicionando uma coluna com os valores mais comuns.\n",
    "\n",
    "colunas = ['nomMunicipio', 'mdaPotenciaInstaladaKW', 'dscCombustivel', 'dscGrupoFornecimento', 'sigTipoUC', 'dscModalidadeConsumo', \n",
    "           'dscClasseFornecimento', 'sigUF', 'dscSituacaoUC', 'qtdUCResponsavel', 'datConexao', 'nomDistribuidora']\n",
    "temp = []\n",
    "\n",
    "for col in colunas:\n",
    "    temp.append(dfGeracao[col].value_counts().idxmax())\n",
    "    \n",
    "sumario['Mais coumns'] = temp\n",
    "sumario"
   ]
  },
  {
   "cell_type": "code",
   "execution_count": 12,
   "id": "0076de68-1244-432a-8ddb-77e78088318c",
   "metadata": {},
   "outputs": [
    {
     "name": "stdout",
     "output_type": "stream",
     "text": [
      "Wall time: 23.5 s\n"
     ]
    }
   ],
   "source": [
    "%%time\n",
    "# Tranformando a coluna 'datConexao' em datetime. (Leva alguns segundos para executar +- 20 segundos.)\n",
    "\n",
    "dfGeracao['datConexao'] = dfGeracao['datConexao'].apply(pd.to_datetime)"
   ]
  },
  {
   "cell_type": "code",
   "execution_count": 13,
   "id": "cb969b01-1ccb-48ef-9b9f-db33ccf7fe08",
   "metadata": {},
   "outputs": [
    {
     "data": {
      "text/html": [
       "<div>\n",
       "<style scoped>\n",
       "    .dataframe tbody tr th:only-of-type {\n",
       "        vertical-align: middle;\n",
       "    }\n",
       "\n",
       "    .dataframe tbody tr th {\n",
       "        vertical-align: top;\n",
       "    }\n",
       "\n",
       "    .dataframe thead th {\n",
       "        text-align: right;\n",
       "    }\n",
       "</style>\n",
       "<table border=\"1\" class=\"dataframe\">\n",
       "  <thead>\n",
       "    <tr style=\"text-align: right;\">\n",
       "      <th></th>\n",
       "      <th>nomMunicipio</th>\n",
       "      <th>mdaPotenciaInstaladaKW</th>\n",
       "      <th>dscCombustivel</th>\n",
       "      <th>dscGrupoFornecimento</th>\n",
       "      <th>sigTipoUC</th>\n",
       "      <th>dscModalidadeConsumo</th>\n",
       "      <th>dscClasseFornecimento</th>\n",
       "      <th>sigUF</th>\n",
       "      <th>dscSituacaoUC</th>\n",
       "      <th>qtdUCResponsavel</th>\n",
       "      <th>datConexao</th>\n",
       "      <th>nomDistribuidora</th>\n",
       "      <th>anoConexao</th>\n",
       "    </tr>\n",
       "  </thead>\n",
       "  <tbody>\n",
       "    <tr>\n",
       "      <th>0</th>\n",
       "      <td>Porto Alegre</td>\n",
       "      <td>2.6</td>\n",
       "      <td>Radiação solar</td>\n",
       "      <td>B1</td>\n",
       "      <td>UFV</td>\n",
       "      <td>Geração na Própria UC</td>\n",
       "      <td>Residencial</td>\n",
       "      <td>RS</td>\n",
       "      <td>Completa</td>\n",
       "      <td>1</td>\n",
       "      <td>2018-10-15</td>\n",
       "      <td>COMPANHIA ESTADUAL DE DISTRIBUIÇÃO DE ENERGIA ...</td>\n",
       "      <td>2018</td>\n",
       "    </tr>\n",
       "    <tr>\n",
       "      <th>1</th>\n",
       "      <td>Porto Alegre</td>\n",
       "      <td>3.0</td>\n",
       "      <td>Radiação solar</td>\n",
       "      <td>B1</td>\n",
       "      <td>UFV</td>\n",
       "      <td>Geração na Própria UC</td>\n",
       "      <td>Residencial</td>\n",
       "      <td>RS</td>\n",
       "      <td>Completa</td>\n",
       "      <td>1</td>\n",
       "      <td>2020-03-02</td>\n",
       "      <td>COMPANHIA ESTADUAL DE DISTRIBUIÇÃO DE ENERGIA ...</td>\n",
       "      <td>2020</td>\n",
       "    </tr>\n",
       "  </tbody>\n",
       "</table>\n",
       "</div>"
      ],
      "text/plain": [
       "   nomMunicipio  mdaPotenciaInstaladaKW  dscCombustivel dscGrupoFornecimento  \\\n",
       "0  Porto Alegre                     2.6  Radiação solar                   B1   \n",
       "1  Porto Alegre                     3.0  Radiação solar                   B1   \n",
       "\n",
       "  sigTipoUC   dscModalidadeConsumo dscClasseFornecimento sigUF dscSituacaoUC  \\\n",
       "0       UFV  Geração na Própria UC           Residencial    RS      Completa   \n",
       "1       UFV  Geração na Própria UC           Residencial    RS      Completa   \n",
       "\n",
       "   qtdUCResponsavel datConexao  \\\n",
       "0                 1 2018-10-15   \n",
       "1                 1 2020-03-02   \n",
       "\n",
       "                                    nomDistribuidora  anoConexao  \n",
       "0  COMPANHIA ESTADUAL DE DISTRIBUIÇÃO DE ENERGIA ...        2018  \n",
       "1  COMPANHIA ESTADUAL DE DISTRIBUIÇÃO DE ENERGIA ...        2020  "
      ]
     },
     "execution_count": 13,
     "metadata": {},
     "output_type": "execute_result"
    }
   ],
   "source": [
    "# Criando uma nova coluna 'anoConexao' para guardar apenas o ano da conexão com o sistema de distribuição.\n",
    "\n",
    "dfGeracao['anoConexao'] = dfGeracao['datConexao'].dt.year\n",
    "dfGeracao.head(2)"
   ]
  },
  {
   "cell_type": "markdown",
   "id": "8f3f35cd-c82e-4ade-bd72-ef37bacb0de3",
   "metadata": {},
   "source": [
    "### Análise exploratória\n",
    "\n",
    "### Vamos analisar algumas das variáveis que compôe o dataset."
   ]
  },
  {
   "cell_type": "code",
   "execution_count": 14,
   "id": "55f2207b-99b1-40e1-b8c1-8c77a911fe4c",
   "metadata": {},
   "outputs": [],
   "source": [
    "# Funcao para criar uma tabela com os totais por valores unicos (Apenas para facilitar a vida).\n",
    "\n",
    "def TabelaValores(coluna):\n",
    "    tbl = dfGeracao[coluna].value_counts().rename_axis(coluna).reset_index(name = 'Total')\n",
    "    tbl.set_index(coluna, inplace = True)\n",
    "    return tbl"
   ]
  },
  {
   "cell_type": "code",
   "execution_count": 15,
   "id": "3e786658-fafa-4b74-aa01-8de39b54f134",
   "metadata": {},
   "outputs": [
    {
     "data": {
      "text/html": [
       "<div>\n",
       "<style scoped>\n",
       "    .dataframe tbody tr th:only-of-type {\n",
       "        vertical-align: middle;\n",
       "    }\n",
       "\n",
       "    .dataframe tbody tr th {\n",
       "        vertical-align: top;\n",
       "    }\n",
       "\n",
       "    .dataframe thead th {\n",
       "        text-align: right;\n",
       "    }\n",
       "</style>\n",
       "<table border=\"1\" class=\"dataframe\">\n",
       "  <thead>\n",
       "    <tr style=\"text-align: right;\">\n",
       "      <th></th>\n",
       "      <th>Total</th>\n",
       "    </tr>\n",
       "    <tr>\n",
       "      <th>anoConexao</th>\n",
       "      <th></th>\n",
       "    </tr>\n",
       "  </thead>\n",
       "  <tbody>\n",
       "    <tr>\n",
       "      <th>2020</th>\n",
       "      <td>138123</td>\n",
       "    </tr>\n",
       "    <tr>\n",
       "      <th>2019</th>\n",
       "      <td>122096</td>\n",
       "    </tr>\n",
       "    <tr>\n",
       "      <th>2018</th>\n",
       "      <td>36221</td>\n",
       "    </tr>\n",
       "    <tr>\n",
       "      <th>2017</th>\n",
       "      <td>14179</td>\n",
       "    </tr>\n",
       "    <tr>\n",
       "      <th>2016</th>\n",
       "      <td>6916</td>\n",
       "    </tr>\n",
       "  </tbody>\n",
       "</table>\n",
       "</div>"
      ],
      "text/plain": [
       "             Total\n",
       "anoConexao        \n",
       "2020        138123\n",
       "2019        122096\n",
       "2018         36221\n",
       "2017         14179\n",
       "2016          6916"
      ]
     },
     "execution_count": 15,
     "metadata": {},
     "output_type": "execute_result"
    }
   ],
   "source": [
    "# Variável anoConexao\n",
    "# Exibindo os 5 anos com mais empreendimentos gerados.\n",
    "\n",
    "tabela = TabelaValores('anoConexao')\n",
    "tabela[:5]"
   ]
  },
  {
   "cell_type": "code",
   "execution_count": 16,
   "id": "caa9ec59-bf43-432a-917d-d6243e312d97",
   "metadata": {},
   "outputs": [
    {
     "data": {
      "image/png": "[encoded data removed]",
      "text/plain": [
       "<Figure size 864x432 with 1 Axes>"
      ]
     },
     "metadata": {
      "needs_background": "light"
     },
     "output_type": "display_data"
    }
   ],
   "source": [
    "# Vamos acompanhar o crescimento do número de novos empreendimentos de geração distribuída ao longo dos anos. \n",
    "\n",
    "fig = plt.figure(figsize = (12, 6))\n",
    "ax = sns.pointplot(x = tabela.index, y = tabela['Total'], color = 'blue', markers = 'h')\n",
    "ax.set_facecolor('White')\n",
    "plt.grid(True, alpha = 0.2, color = 'Black')\n",
    "plt.ylabel('Total')\n",
    "plt.xlabel('')\n",
    "plt.title('Número de novos empreendimentos ao longos dos anos', color = 'black')\n",
    "plt.show()"
   ]
  },
  {
   "cell_type": "markdown",
   "id": "de51771f-43a5-4272-b6b1-52dc80e9d80c",
   "metadata": {},
   "source": [
    "Podemos perceber que no ano de 2019 houve um salto no número de novos empreendimentos de geração distribuída. O gráfico mostra uma tendência de aumento a cada ano."
   ]
  },
  {
   "cell_type": "code",
   "execution_count": 17,
   "id": "a158288c-c3dd-4ea2-9523-73f7baef41c0",
   "metadata": {},
   "outputs": [
    {
     "data": {
      "text/html": [
       "<div>\n",
       "<style scoped>\n",
       "    .dataframe tbody tr th:only-of-type {\n",
       "        vertical-align: middle;\n",
       "    }\n",
       "\n",
       "    .dataframe tbody tr th {\n",
       "        vertical-align: top;\n",
       "    }\n",
       "\n",
       "    .dataframe thead th {\n",
       "        text-align: right;\n",
       "    }\n",
       "</style>\n",
       "<table border=\"1\" class=\"dataframe\">\n",
       "  <thead>\n",
       "    <tr style=\"text-align: right;\">\n",
       "      <th></th>\n",
       "      <th>nomMunicipio</th>\n",
       "      <th>NumEmpGeracao</th>\n",
       "      <th>PotenciaInstaladakw</th>\n",
       "    </tr>\n",
       "  </thead>\n",
       "  <tbody>\n",
       "    <tr>\n",
       "      <th>0</th>\n",
       "      <td>Rio de Janeiro</td>\n",
       "      <td>4047</td>\n",
       "      <td>43636.72</td>\n",
       "    </tr>\n",
       "    <tr>\n",
       "      <th>1</th>\n",
       "      <td>Teresina</td>\n",
       "      <td>3428</td>\n",
       "      <td>39004.50</td>\n",
       "    </tr>\n",
       "    <tr>\n",
       "      <th>2</th>\n",
       "      <td>Cuiabá</td>\n",
       "      <td>3326</td>\n",
       "      <td>43509.54</td>\n",
       "    </tr>\n",
       "    <tr>\n",
       "      <th>3</th>\n",
       "      <td>Uberlândia</td>\n",
       "      <td>3040</td>\n",
       "      <td>48975.64</td>\n",
       "    </tr>\n",
       "    <tr>\n",
       "      <th>4</th>\n",
       "      <td>Fortaleza</td>\n",
       "      <td>2659</td>\n",
       "      <td>37219.19</td>\n",
       "    </tr>\n",
       "  </tbody>\n",
       "</table>\n",
       "</div>"
      ],
      "text/plain": [
       "     nomMunicipio  NumEmpGeracao  PotenciaInstaladakw\n",
       "0  Rio de Janeiro           4047             43636.72\n",
       "1        Teresina           3428             39004.50\n",
       "2          Cuiabá           3326             43509.54\n",
       "3      Uberlândia           3040             48975.64\n",
       "4       Fortaleza           2659             37219.19"
      ]
     },
     "execution_count": 17,
     "metadata": {},
     "output_type": "execute_result"
    }
   ],
   "source": [
    "# Variável nomMunicipio\n",
    "# Gerando um dataframe com a cidade, o numero de empreendimentos e a potência instalada.\n",
    "\n",
    "dfMun = dfGeracao['nomMunicipio'].value_counts().rename_axis('nomMunicipio').reset_index(name = 'NumEmpGeracao').set_index('nomMunicipio')\n",
    "dfMun['PotenciaInstaladakw'] = dfGeracao.groupby(['nomMunicipio'])['mdaPotenciaInstaladaKW'].sum()\n",
    "dfMun.reset_index(inplace = True)\n",
    "dfMun.sort_values('NumEmpGeracao', ascending = False)[:5]"
   ]
  },
  {
   "cell_type": "markdown",
   "id": "f5145bad-60f5-4a43-8bcb-8a7dd688ef2c",
   "metadata": {},
   "source": [
    "Nota-se que apesar de um número de empreendimentos maior, o Rio de Janeiro não tem a maior pontência instalada. Vamos "
   ]
  },
  {
   "cell_type": "code",
   "execution_count": 18,
   "id": "304ef570-67b4-411d-8677-46a04e720529",
   "metadata": {},
   "outputs": [
    {
     "data": {
      "image/png": "[encoded data removed]",
      "text/plain": [
       "<Figure size 864x432 with 1 Axes>"
      ]
     },
     "metadata": {},
     "output_type": "display_data"
    }
   ],
   "source": [
    "# Plotando um gráfico com Número de empreendimentos de geração distribuída por município (apenas os 10 primeiros).\n",
    "\n",
    "sns.set_theme(style = 'whitegrid')\n",
    "plt.figure(figsize = (12, 6))\n",
    "ax = sns.countplot(x = 'nomMunicipio', data = dfGeracao, order = dfGeracao['nomMunicipio'].value_counts().iloc[:10].index)\n",
    "ax.tick_params(axis = 'x', rotation = 75)\n",
    "plt.title('Número de empreendimentos por Cidade')\n",
    "plt.ylabel('Nº de empreendimentos')\n",
    "plt.xlabel('')\n",
    "plt.show()"
   ]
  },
  {
   "cell_type": "code",
   "execution_count": 19,
   "id": "3d7013c8-c1d6-43e8-9b01-809f5755889d",
   "metadata": {},
   "outputs": [
    {
     "data": {
      "text/html": [
       "<div>\n",
       "<style scoped>\n",
       "    .dataframe tbody tr th:only-of-type {\n",
       "        vertical-align: middle;\n",
       "    }\n",
       "\n",
       "    .dataframe tbody tr th {\n",
       "        vertical-align: top;\n",
       "    }\n",
       "\n",
       "    .dataframe thead th {\n",
       "        text-align: right;\n",
       "    }\n",
       "</style>\n",
       "<table border=\"1\" class=\"dataframe\">\n",
       "  <thead>\n",
       "    <tr style=\"text-align: right;\">\n",
       "      <th></th>\n",
       "      <th>Total</th>\n",
       "    </tr>\n",
       "    <tr>\n",
       "      <th>dscCombustivel</th>\n",
       "      <th></th>\n",
       "    </tr>\n",
       "  </thead>\n",
       "  <tbody>\n",
       "    <tr>\n",
       "      <th>Radiação solar</th>\n",
       "      <td>318990</td>\n",
       "    </tr>\n",
       "    <tr>\n",
       "      <th>Biogás - RA</th>\n",
       "      <td>157</td>\n",
       "    </tr>\n",
       "    <tr>\n",
       "      <th>Potencial hidráulico</th>\n",
       "      <td>129</td>\n",
       "    </tr>\n",
       "    <tr>\n",
       "      <th>Cinética do vento</th>\n",
       "      <td>95</td>\n",
       "    </tr>\n",
       "    <tr>\n",
       "      <th>Biogás - RU</th>\n",
       "      <td>46</td>\n",
       "    </tr>\n",
       "  </tbody>\n",
       "</table>\n",
       "</div>"
      ],
      "text/plain": [
       "                       Total\n",
       "dscCombustivel              \n",
       "Radiação solar        318990\n",
       "Biogás - RA              157\n",
       "Potencial hidráulico     129\n",
       "Cinética do vento         95\n",
       "Biogás - RU               46"
      ]
     },
     "execution_count": 19,
     "metadata": {},
     "output_type": "execute_result"
    }
   ],
   "source": [
    "# Variável dscCombustivel\n",
    "# Exibindo os 5 tipos de combustível mais utilizados.\n",
    "\n",
    "tabela = TabelaValores('dscCombustivel')\n",
    "tabela[:5]"
   ]
  },
  {
   "cell_type": "markdown",
   "id": "1d61f1a1-2479-4a3a-915f-4447d6a390e8",
   "metadata": {},
   "source": [
    "Percebe-se que quase a totalidade da geração utiliza a Radiação solar como fonte."
   ]
  },
  {
   "cell_type": "code",
   "execution_count": 20,
   "id": "6e0046b5-cf12-499b-997a-57c06ec86e1a",
   "metadata": {},
   "outputs": [
    {
     "data": {
      "image/png": "[encoded data removed]",
      "text/plain": [
       "<Figure size 864x432 with 1 Axes>"
      ]
     },
     "metadata": {},
     "output_type": "display_data"
    }
   ],
   "source": [
    "# Plotando um countplot com os totais por classe de fornecimento.\n",
    "\n",
    "plt.figure(figsize = (12, 6))\n",
    "plt.title('Total de empreendimentos por classe de fornecimento')\n",
    "ax = sns.countplot(x = 'dscClasseFornecimento', data = dfGeracao, order = dfGeracao['dscClasseFornecimento'].value_counts().index, palette = 'Pastel2')\n",
    "plt.xlabel('')\n",
    "plt.ylabel('Nº de empreendimentos')\n",
    "plt.show()"
   ]
  },
  {
   "cell_type": "markdown",
   "id": "b5db8f0e-6e54-4f16-b135-942c6745490d",
   "metadata": {},
   "source": [
    "Nota-se aqui que a grande maioria da geração é da classe Residencial."
   ]
  },
  {
   "cell_type": "code",
   "execution_count": 21,
   "id": "5ad98d87-d7cf-4afd-8be6-a8a7e895dfa2",
   "metadata": {},
   "outputs": [
    {
     "data": {
      "text/html": [
       "<div>\n",
       "<style scoped>\n",
       "    .dataframe tbody tr th:only-of-type {\n",
       "        vertical-align: middle;\n",
       "    }\n",
       "\n",
       "    .dataframe tbody tr th {\n",
       "        vertical-align: top;\n",
       "    }\n",
       "\n",
       "    .dataframe thead th {\n",
       "        text-align: right;\n",
       "    }\n",
       "</style>\n",
       "<table border=\"1\" class=\"dataframe\">\n",
       "  <thead>\n",
       "    <tr style=\"text-align: right;\">\n",
       "      <th></th>\n",
       "      <th>dscClasseFornecimento</th>\n",
       "      <th>mdaPotenciaInstaladaKW</th>\n",
       "    </tr>\n",
       "  </thead>\n",
       "  <tbody>\n",
       "    <tr>\n",
       "      <th>0</th>\n",
       "      <td>Comercial</td>\n",
       "      <td>1624971.53</td>\n",
       "    </tr>\n",
       "    <tr>\n",
       "      <th>4</th>\n",
       "      <td>Residencial</td>\n",
       "      <td>1466221.59</td>\n",
       "    </tr>\n",
       "    <tr>\n",
       "      <th>5</th>\n",
       "      <td>Rural</td>\n",
       "      <td>553831.58</td>\n",
       "    </tr>\n",
       "    <tr>\n",
       "      <th>2</th>\n",
       "      <td>Industrial</td>\n",
       "      <td>416566.67</td>\n",
       "    </tr>\n",
       "    <tr>\n",
       "      <th>3</th>\n",
       "      <td>Poder Público</td>\n",
       "      <td>46902.66</td>\n",
       "    </tr>\n",
       "    <tr>\n",
       "      <th>6</th>\n",
       "      <td>Serviço Público</td>\n",
       "      <td>4243.09</td>\n",
       "    </tr>\n",
       "    <tr>\n",
       "      <th>1</th>\n",
       "      <td>Iluminação pública</td>\n",
       "      <td>716.46</td>\n",
       "    </tr>\n",
       "  </tbody>\n",
       "</table>\n",
       "</div>"
      ],
      "text/plain": [
       "  dscClasseFornecimento  mdaPotenciaInstaladaKW\n",
       "0             Comercial              1624971.53\n",
       "4           Residencial              1466221.59\n",
       "5                 Rural               553831.58\n",
       "2            Industrial               416566.67\n",
       "3         Poder Público                46902.66\n",
       "6       Serviço Público                 4243.09\n",
       "1    Iluminação pública                  716.46"
      ]
     },
     "execution_count": 21,
     "metadata": {},
     "output_type": "execute_result"
    }
   ],
   "source": [
    "# Verificamos se o potência instalada acompanha o total por classe de fornedimento.\n",
    "\n",
    "dfGrupo = dfGeracao.groupby(['dscClasseFornecimento'])['mdaPotenciaInstaladaKW'].sum().reset_index()\n",
    "dfGrupo.sort_values('mdaPotenciaInstaladaKW', ascending = False)"
   ]
  },
  {
   "cell_type": "markdown",
   "id": "f52b22d8-3e8d-424a-9229-a97b709baac8",
   "metadata": {},
   "source": [
    "Podemos verificar que, apesar do número bem maior de empreendimentos geradores da classe 'Residencial', o potência instalada é maior para a classe 'Comercial'. Talvez porque a demanda de um comércio seja maior que de uma residência."
   ]
  },
  {
   "cell_type": "code",
   "execution_count": 22,
   "id": "e2b338c8-c0b1-49d4-a90b-5e8e16c0bf66",
   "metadata": {},
   "outputs": [
    {
     "data": {
      "image/png": "[encoded data removed]",
      "text/plain": [
       "<Figure size 432x288 with 1 Axes>"
      ]
     },
     "metadata": {},
     "output_type": "display_data"
    }
   ],
   "source": [
    "# Vamos observar a distribuição do potência instalada dentre as classes de fornecimento.\n",
    "\n",
    "ax = sns.stripplot(x = 'dscClasseFornecimento', y = 'mdaPotenciaInstaladaKW', data = dfGeracao, jitter = True, dodge = True, palette = 'viridis')\n",
    "ax.tick_params(axis = 'x', rotation = 75)\n",
    "plt.xlabel('')\n",
    "plt.ylabel('Potência instalada (kw)')\n",
    "plt.show()"
   ]
  },
  {
   "cell_type": "markdown",
   "id": "2e6f6f89-f6be-4381-8719-79fed9290671",
   "metadata": {},
   "source": [
    "Percebe-se aqui que a grande maioria dos empreendimentos tem potência instalada menor que 1000 kw. No caso dos residenciais, menos de 500 kw. Podemos perceber também a presença de um registro que aprarentemente, é um outlier dado a geração de mais de 5000 kw."
   ]
  },
  {
   "cell_type": "markdown",
   "id": "1fc797d8-65bb-4a63-936d-6c21287c4cb0",
   "metadata": {},
   "source": [
    "Daqui em diante vamos analisar apenas os empreendimentos com Radiação solar como fonte da geração e iremos remover os empreendimentos cuja situação esteja completa."
   ]
  },
  {
   "cell_type": "code",
   "execution_count": 23,
   "id": "14ce0e98-b171-44e5-b80d-5bc8aefc5ec0",
   "metadata": {},
   "outputs": [],
   "source": [
    "# Filtrando o dataset pela situação da UC e tipo de combustível.\n",
    "# Serão filtrados mais ou menos 3000 registros.\n",
    "\n",
    "dfConcluido = dfGeracao[(dfGeracao['dscSituacaoUC'] == 'Completa') & (dfGeracao['dscCombustivel'] == 'Radiação solar')]"
   ]
  },
  {
   "cell_type": "code",
   "execution_count": 24,
   "id": "95a41222-dddb-4a5f-854c-a766ae388a9c",
   "metadata": {},
   "outputs": [
    {
     "name": "stdout",
     "output_type": "stream",
     "text": [
      "Tamanho do dataset filtrado: (316510, 13)\n"
     ]
    }
   ],
   "source": [
    "print('Tamanho do dataset filtrado:', dfConcluido.shape)"
   ]
  },
  {
   "cell_type": "markdown",
   "id": "c54b035d-3034-4caf-9c5f-4b8a12da1d38",
   "metadata": {},
   "source": [
    "### Exibindo o mapa com a potência instalada."
   ]
  },
  {
   "cell_type": "code",
   "execution_count": 25,
   "id": "dc71d1c0-bbdb-4004-85ab-629f7db8fa0d",
   "metadata": {},
   "outputs": [
    {
     "data": {
      "text/html": [
       "<div>\n",
       "<style scoped>\n",
       "    .dataframe tbody tr th:only-of-type {\n",
       "        vertical-align: middle;\n",
       "    }\n",
       "\n",
       "    .dataframe tbody tr th {\n",
       "        vertical-align: top;\n",
       "    }\n",
       "\n",
       "    .dataframe thead th {\n",
       "        text-align: right;\n",
       "    }\n",
       "</style>\n",
       "<table border=\"1\" class=\"dataframe\">\n",
       "  <thead>\n",
       "    <tr style=\"text-align: right;\">\n",
       "      <th></th>\n",
       "      <th>codigo_uf</th>\n",
       "      <th>uf</th>\n",
       "      <th>nome</th>\n",
       "      <th>latitude</th>\n",
       "      <th>longitude</th>\n",
       "    </tr>\n",
       "  </thead>\n",
       "  <tbody>\n",
       "    <tr>\n",
       "      <th>0</th>\n",
       "      <td>11</td>\n",
       "      <td>RO</td>\n",
       "      <td>Rondônia</td>\n",
       "      <td>-10.83</td>\n",
       "      <td>-63.34</td>\n",
       "    </tr>\n",
       "    <tr>\n",
       "      <th>1</th>\n",
       "      <td>12</td>\n",
       "      <td>AC</td>\n",
       "      <td>Acre</td>\n",
       "      <td>-8.77</td>\n",
       "      <td>-70.55</td>\n",
       "    </tr>\n",
       "  </tbody>\n",
       "</table>\n",
       "</div>"
      ],
      "text/plain": [
       "   codigo_uf  uf      nome  latitude  longitude\n",
       "0         11  RO  Rondônia    -10.83     -63.34\n",
       "1         12  AC      Acre     -8.77     -70.55"
      ]
     },
     "execution_count": 25,
     "metadata": {},
     "output_type": "execute_result"
    }
   ],
   "source": [
    "# Vamos carregar os dados de geolocalização.\n",
    "\n",
    "dfGeo = pd.read_csv('estados.csv')\n",
    "dfGeo.head(2)"
   ]
  },
  {
   "cell_type": "code",
   "execution_count": 26,
   "id": "00fadb5b-2e92-49a3-8f86-5c867ecf6ca8",
   "metadata": {},
   "outputs": [],
   "source": [
    "# Renomeando as colunas para ficarem iguais aos do dataset de geração.\n",
    "\n",
    "dfGeo.rename({'uf': 'sigUF'}, axis = 1, inplace = True)"
   ]
  },
  {
   "cell_type": "code",
   "execution_count": 27,
   "id": "68739df7-fcc0-4887-a1d5-c74cf6f793b0",
   "metadata": {},
   "outputs": [
    {
     "data": {
      "text/html": [
       "<div>\n",
       "<style scoped>\n",
       "    .dataframe tbody tr th:only-of-type {\n",
       "        vertical-align: middle;\n",
       "    }\n",
       "\n",
       "    .dataframe tbody tr th {\n",
       "        vertical-align: top;\n",
       "    }\n",
       "\n",
       "    .dataframe thead th {\n",
       "        text-align: right;\n",
       "    }\n",
       "</style>\n",
       "<table border=\"1\" class=\"dataframe\">\n",
       "  <thead>\n",
       "    <tr style=\"text-align: right;\">\n",
       "      <th></th>\n",
       "      <th>sigUF</th>\n",
       "      <th>latitude</th>\n",
       "      <th>longitude</th>\n",
       "    </tr>\n",
       "  </thead>\n",
       "  <tbody>\n",
       "    <tr>\n",
       "      <th>0</th>\n",
       "      <td>RO</td>\n",
       "      <td>-10.83</td>\n",
       "      <td>-63.34</td>\n",
       "    </tr>\n",
       "    <tr>\n",
       "      <th>1</th>\n",
       "      <td>AC</td>\n",
       "      <td>-8.77</td>\n",
       "      <td>-70.55</td>\n",
       "    </tr>\n",
       "    <tr>\n",
       "      <th>2</th>\n",
       "      <td>AM</td>\n",
       "      <td>-3.47</td>\n",
       "      <td>-65.10</td>\n",
       "    </tr>\n",
       "    <tr>\n",
       "      <th>3</th>\n",
       "      <td>RR</td>\n",
       "      <td>1.99</td>\n",
       "      <td>-61.33</td>\n",
       "    </tr>\n",
       "    <tr>\n",
       "      <th>4</th>\n",
       "      <td>PA</td>\n",
       "      <td>-3.79</td>\n",
       "      <td>-52.48</td>\n",
       "    </tr>\n",
       "  </tbody>\n",
       "</table>\n",
       "</div>"
      ],
      "text/plain": [
       "  sigUF  latitude  longitude\n",
       "0    RO    -10.83     -63.34\n",
       "1    AC     -8.77     -70.55\n",
       "2    AM     -3.47     -65.10\n",
       "3    RR      1.99     -61.33\n",
       "4    PA     -3.79     -52.48"
      ]
     },
     "execution_count": 27,
     "metadata": {},
     "output_type": "execute_result"
    }
   ],
   "source": [
    "# Removendo colunas desnecessárias.\n",
    "\n",
    "dfGeo.drop(['codigo_uf', 'nome'], axis = 1, inplace = True)\n",
    "dfGeo.head()"
   ]
  },
  {
   "cell_type": "code",
   "execution_count": 28,
   "id": "6cae5e2c-aae3-4c34-bc46-5ebf0750e500",
   "metadata": {},
   "outputs": [
    {
     "data": {
      "text/html": [
       "<div>\n",
       "<style scoped>\n",
       "    .dataframe tbody tr th:only-of-type {\n",
       "        vertical-align: middle;\n",
       "    }\n",
       "\n",
       "    .dataframe tbody tr th {\n",
       "        vertical-align: top;\n",
       "    }\n",
       "\n",
       "    .dataframe thead th {\n",
       "        text-align: right;\n",
       "    }\n",
       "</style>\n",
       "<table border=\"1\" class=\"dataframe\">\n",
       "  <thead>\n",
       "    <tr style=\"text-align: right;\">\n",
       "      <th></th>\n",
       "      <th>nomMunicipio</th>\n",
       "      <th>mdaPotenciaInstaladaKW</th>\n",
       "      <th>dscCombustivel</th>\n",
       "      <th>dscGrupoFornecimento</th>\n",
       "      <th>sigTipoUC</th>\n",
       "      <th>dscModalidadeConsumo</th>\n",
       "      <th>dscClasseFornecimento</th>\n",
       "      <th>sigUF</th>\n",
       "      <th>dscSituacaoUC</th>\n",
       "      <th>qtdUCResponsavel</th>\n",
       "      <th>datConexao</th>\n",
       "      <th>nomDistribuidora</th>\n",
       "      <th>anoConexao</th>\n",
       "      <th>latitude</th>\n",
       "      <th>longitude</th>\n",
       "    </tr>\n",
       "  </thead>\n",
       "  <tbody>\n",
       "    <tr>\n",
       "      <th>0</th>\n",
       "      <td>Porto Alegre</td>\n",
       "      <td>2.6</td>\n",
       "      <td>Radiação solar</td>\n",
       "      <td>B1</td>\n",
       "      <td>UFV</td>\n",
       "      <td>Geração na Própria UC</td>\n",
       "      <td>Residencial</td>\n",
       "      <td>RS</td>\n",
       "      <td>Completa</td>\n",
       "      <td>1</td>\n",
       "      <td>2018-10-15</td>\n",
       "      <td>COMPANHIA ESTADUAL DE DISTRIBUIÇÃO DE ENERGIA ...</td>\n",
       "      <td>2018</td>\n",
       "      <td>-30.17</td>\n",
       "      <td>-53.5</td>\n",
       "    </tr>\n",
       "    <tr>\n",
       "      <th>1</th>\n",
       "      <td>Porto Alegre</td>\n",
       "      <td>3.0</td>\n",
       "      <td>Radiação solar</td>\n",
       "      <td>B1</td>\n",
       "      <td>UFV</td>\n",
       "      <td>Geração na Própria UC</td>\n",
       "      <td>Residencial</td>\n",
       "      <td>RS</td>\n",
       "      <td>Completa</td>\n",
       "      <td>1</td>\n",
       "      <td>2020-03-02</td>\n",
       "      <td>COMPANHIA ESTADUAL DE DISTRIBUIÇÃO DE ENERGIA ...</td>\n",
       "      <td>2020</td>\n",
       "      <td>-30.17</td>\n",
       "      <td>-53.5</td>\n",
       "    </tr>\n",
       "  </tbody>\n",
       "</table>\n",
       "</div>"
      ],
      "text/plain": [
       "   nomMunicipio  mdaPotenciaInstaladaKW  dscCombustivel dscGrupoFornecimento  \\\n",
       "0  Porto Alegre                     2.6  Radiação solar                   B1   \n",
       "1  Porto Alegre                     3.0  Radiação solar                   B1   \n",
       "\n",
       "  sigTipoUC   dscModalidadeConsumo dscClasseFornecimento sigUF dscSituacaoUC  \\\n",
       "0       UFV  Geração na Própria UC           Residencial    RS      Completa   \n",
       "1       UFV  Geração na Própria UC           Residencial    RS      Completa   \n",
       "\n",
       "   qtdUCResponsavel datConexao  \\\n",
       "0                 1 2018-10-15   \n",
       "1                 1 2020-03-02   \n",
       "\n",
       "                                    nomDistribuidora  anoConexao  latitude  \\\n",
       "0  COMPANHIA ESTADUAL DE DISTRIBUIÇÃO DE ENERGIA ...        2018    -30.17   \n",
       "1  COMPANHIA ESTADUAL DE DISTRIBUIÇÃO DE ENERGIA ...        2020    -30.17   \n",
       "\n",
       "   longitude  \n",
       "0      -53.5  \n",
       "1      -53.5  "
      ]
     },
     "execution_count": 28,
     "metadata": {},
     "output_type": "execute_result"
    }
   ],
   "source": [
    "# Fazendo o merge dos dataframes dfConcluido e geo\n",
    "\n",
    "dfMapa = pd.merge(dfConcluido, dfGeo, on = ['sigUF'])\n",
    "dfMapa.head(2)"
   ]
  },
  {
   "cell_type": "code",
   "execution_count": 29,
   "id": "4166170c-8021-4b76-a394-ec899394e0bd",
   "metadata": {},
   "outputs": [
    {
     "name": "stdout",
     "output_type": "stream",
     "text": [
      "Total de registros nulos na Longitude: 0\n"
     ]
    }
   ],
   "source": [
    "# Verificando se existem registros nulos para a Longitude após o merge.\n",
    "\n",
    "print('Total de registros nulos na Longitude:', dfMapa['longitude'].isnull().sum()) "
   ]
  },
  {
   "cell_type": "code",
   "execution_count": 30,
   "id": "f189fbda-586e-421d-920e-afc6a09f6c4a",
   "metadata": {},
   "outputs": [
    {
     "name": "stdout",
     "output_type": "stream",
     "text": [
      "Total de registros nulos na Latitude: 0\n"
     ]
    }
   ],
   "source": [
    "# Verificando se existem registros nulos na latitude após o merge.\n",
    "\n",
    "print('Total de registros nulos na Latitude:', dfMapa['latitude'].isnull().sum())"
   ]
  },
  {
   "cell_type": "code",
   "execution_count": 31,
   "id": "1b40ad45-408a-40b5-9a4d-97242917477a",
   "metadata": {},
   "outputs": [
    {
     "data": {
      "text/plain": [
       "(316510, 4)"
      ]
     },
     "execution_count": 31,
     "metadata": {},
     "output_type": "execute_result"
    }
   ],
   "source": [
    "# Criando um dataframe com os dados dos estados.\n",
    "\n",
    "dfMapaUF = dfMapa.loc[:, ['latitude', 'longitude', 'sigUF', 'mdaPotenciaInstaladaKW']]\n",
    "dfMapaUF.shape"
   ]
  },
  {
   "cell_type": "code",
   "execution_count": 32,
   "id": "02c24ef6-fc48-4edd-8ea8-39b02676d2bb",
   "metadata": {},
   "outputs": [],
   "source": [
    "# Criando um dataframe consolidando a soma da potencia instalada por estado.\n",
    "\n",
    "dfPotenciaInstaladaUF = dfMapaUF.groupby(['latitude', 'longitude', 'sigUF']).sum().reset_index()"
   ]
  },
  {
   "cell_type": "code",
   "execution_count": 33,
   "id": "e4e96c9b-e03e-4c50-906e-564083403e36",
   "metadata": {},
   "outputs": [],
   "source": [
    "# Exibir um mapa com os valores de total de unidades geradoras e a potencia instalada.\n",
    "# Setando Brasilia como localização inicial do mapa.\n",
    "\n",
    "mapa = folium.Map(location = [-15.793889, -47.882778], zoom_start = 5)"
   ]
  },
  {
   "cell_type": "code",
   "execution_count": 34,
   "id": "48072710-57c0-4759-90a5-351865032fb8",
   "metadata": {},
   "outputs": [],
   "source": [
    "# Pegando as coordenadas dos pontos onde se encontram as geradoras e plotando no mapa por UF.\n",
    "\n",
    "for lat, lon, uf, total in zip(dfPotenciaInstaladaUF['latitude'].values, dfPotenciaInstaladaUF['longitude'].values, \n",
    "                               dfPotenciaInstaladaUF['sigUF'].values, dfPotenciaInstaladaUF['mdaPotenciaInstaladaKW'].values):\n",
    "    folium.Circle([lat, lon], \n",
    "                  radius = float(total / 2), \n",
    "                  popup = uf, \n",
    "                  tooltip = uf + ' Total: ' + str(\"{:.2f}\".format(total)) + ' kw de potência instalada.', \n",
    "                  color = '#69b3a2', \n",
    "                  fill = True, \n",
    "                  fill_color = '#69b3a2'\n",
    "                 ).add_to(mapa)"
   ]
  },
  {
   "cell_type": "code",
   "execution_count": 35,
   "id": "15c871cd-0cbc-44e2-a99e-b949848570ce",
   "metadata": {},
   "outputs": [
    {
     "data": {
      "text/html": [
       "<div style=\"width:100%;\"><div style=\"position:relative;width:100%;height:0;padding-bottom:60%;\"><span style=\"color:#565656\">Make this Notebook Trusted to load map: File -> Trust Notebook</span><iframe src=\"about:blank\" style=\"position:absolute;width:100%;height:100%;left:0;top:0;border:none !important;\" data-html=%3C%21DOCTYPE%20html%3E%0A%3Chead%3E%20%20%20%20%0A%20%20%20%20%3Cmeta%20http-equiv%3D%22content-type%22%20content%3D%22text/html%3B%20charset%3DUTF-8%22%20/%3E%0A%20%20%20%20%0A%20%20%20%20%20%20%20%20%3Cscript%3E%0A%20%20%20%20%20%20%20%20%20%20%20%20L_NO_TOUCH%20%3D%20false%3B%0A%20%20%20%20%20%20%20%20%20%20%20%20L_DISABLE_3D%20%3D%20false%3B%0A%20%20%20%20%20%20%20%20%3C/script%3E%0A%20%20%20%20%0A%20%20%20%20%3Cstyle%3Ehtml%2C%20body%20%7Bwidth%3A%20100%25%3Bheight%3A%20100%25%3Bmargin%3A%200%3Bpadding%3A%200%3B%7D%3C/style%3E%0A%20%20%20%20%3Cstyle%3E%23map%20%7Bposition%3Aabsolute%3Btop%3A0%3Bbottom%3A0%3Bright%3A0%3Bleft%3A0%3B%7D%3C/style%3E%0A%20%20%20%20%3Cscript%20src%3D%22https%3A//cdn.jsdelivr.net/npm/leaflet%401.6.0/dist/leaflet.js%22%3E%3C/script%3E%0A%20%20%20%20%3Cscript%20src%3D%22https%3A//code.jquery.com/jquery-1.12.4.min.js%22%3E%3C/script%3E%0A%20%20%20%20%3Cscript%20src%3D%22https%3A//maxcdn.bootstrapcdn.com/bootstrap/3.2.0/js/bootstrap.min.js%22%3E%3C/script%3E%0A%20%20%20%20%3Cscript%20src%3D%22https%3A//cdnjs.cloudflare.com/ajax/libs/Leaflet.awesome-markers/2.0.2/leaflet.awesome-markers.js%22%3E%3C/script%3E%0A%20%20%20%20%3Clink%20rel%3D%22stylesheet%22%20href%3D%22https%3A//cdn.jsdelivr.net/npm/leaflet%401.6.0/dist/leaflet.css%22/%3E%0A%20%20%20%20%3Clink%20rel%3D%22stylesheet%22%20href%3D%22https%3A//maxcdn.bootstrapcdn.com/bootstrap/3.2.0/css/bootstrap.min.css%22/%3E%0A%20%20%20%20%3Clink%20rel%3D%22stylesheet%22%20href%3D%22https%3A//maxcdn.bootstrapcdn.com/bootstrap/3.2.0/css/bootstrap-theme.min.css%22/%3E%0A%20%20%20%20%3Clink%20rel%3D%22stylesheet%22%20href%3D%22https%3A//maxcdn.bootstrapcdn.com/font-awesome/4.6.3/css/font-awesome.min.css%22/%3E%0A%20%20%20%20%3Clink%20rel%3D%22stylesheet%22%20href%3D%22https%3A//cdnjs.cloudflare.com/ajax/libs/Leaflet.awesome-markers/2.0.2/leaflet.awesome-markers.css%22/%3E%0A%20%20%20%20%3Clink%20rel%3D%22stylesheet%22%20href%3D%22https%3A//cdn.jsdelivr.net/gh/python-visualization/folium/folium/templates/leaflet.awesome.rotate.min.css%22/%3E%0A%20%20%20%20%0A%20%20%20%20%20%20%20%20%20%20%20%20%3Cmeta%20name%3D%22viewport%22%20content%3D%22width%3Ddevice-width%2C%0A%20%20%20%20%20%20%20%20%20%20%20%20%20%20%20%20initial-scale%3D1.0%2C%20maximum-scale%3D1.0%2C%20user-scalable%3Dno%22%20/%3E%0A%20%20%20%20%20%20%20%20%20%20%20%20%3Cstyle%3E%0A%20%20%20%20%20%20%20%20%20%20%20%20%20%20%20%20%23map_56c05dbdcf274bd5baa0f4d7bbf6d565%20%7B%0A%20%20%20%20%20%20%20%20%20%20%20%20%20%20%20%20%20%20%20%20position%3A%20relative%3B%0A%20%20%20%20%20%20%20%20%20%20%20%20%20%20%20%20%20%20%20%20width%3A%20100.0%25%3B%0A%20%20%20%20%20%20%20%20%20%20%20%20%20%20%20%20%20%20%20%20height%3A%20100.0%25%3B%0A%20%20%20%20%20%20%20%20%20%20%20%20%20%20%20%20%20%20%20%20left%3A%200.0%25%3B%0A%20%20%20%20%20%20%20%20%20%20%20%20%20%20%20%20%20%20%20%20top%3A%200.0%25%3B%0A%20%20%20%20%20%20%20%20%20%20%20%20%20%20%20%20%7D%0A%20%20%20%20%20%20%20%20%20%20%20%20%3C/style%3E%0A%20%20%20%20%20%20%20%20%0A%3C/head%3E%0A%3Cbody%3E%20%20%20%20%0A%20%20%20%20%0A%20%20%20%20%20%20%20%20%20%20%20%20%3Cdiv%20class%3D%22folium-map%22%20id%3D%22map_56c05dbdcf274bd5baa0f4d7bbf6d565%22%20%3E%3C/div%3E%0A%20%20%20%20%20%20%20%20%0A%3C/body%3E%0A%3Cscript%3E%20%20%20%20%0A%20%20%20%20%0A%20%20%20%20%20%20%20%20%20%20%20%20var%20map_56c05dbdcf274bd5baa0f4d7bbf6d565%20%3D%20L.map%28%0A%20%20%20%20%20%20%20%20%20%20%20%20%20%20%20%20%22map_56c05dbdcf274bd5baa0f4d7bbf6d565%22%2C%0A%20%20%20%20%20%20%20%20%20%20%20%20%20%20%20%20%7B%0A%20%20%20%20%20%20%20%20%20%20%20%20%20%20%20%20%20%20%20%20center%3A%20%5B-15.793889%2C%20-47.882778%5D%2C%0A%20%20%20%20%20%20%20%20%20%20%20%20%20%20%20%20%20%20%20%20crs%3A%20L.CRS.EPSG3857%2C%0A%20%20%20%20%20%20%20%20%20%20%20%20%20%20%20%20%20%20%20%20zoom%3A%205%2C%0A%20%20%20%20%20%20%20%20%20%20%20%20%20%20%20%20%20%20%20%20zoomControl%3A%20true%2C%0A%20%20%20%20%20%20%20%20%20%20%20%20%20%20%20%20%20%20%20%20preferCanvas%3A%20false%2C%0A%20%20%20%20%20%20%20%20%20%20%20%20%20%20%20%20%7D%0A%20%20%20%20%20%20%20%20%20%20%20%20%29%3B%0A%0A%20%20%20%20%20%20%20%20%20%20%20%20%0A%0A%20%20%20%20%20%20%20%20%0A%20%20%20%20%0A%20%20%20%20%20%20%20%20%20%20%20%20var%20tile_layer_0d6d668f98994da186ac8d928bd90d3f%20%3D%20L.tileLayer%28%0A%20%20%20%20%20%20%20%20%20%20%20%20%20%20%20%20%22https%3A//%7Bs%7D.tile.openstreetmap.org/%7Bz%7D/%7Bx%7D/%7By%7D.png%22%2C%0A%20%20%20%20%20%20%20%20%20%20%20%20%20%20%20%20%7B%22attribution%22%3A%20%22Data%20by%20%5Cu0026copy%3B%20%5Cu003ca%20href%3D%5C%22http%3A//openstreetmap.org%5C%22%5Cu003eOpenStreetMap%5Cu003c/a%5Cu003e%2C%20under%20%5Cu003ca%20href%3D%5C%22http%3A//www.openstreetmap.org/copyright%5C%22%5Cu003eODbL%5Cu003c/a%5Cu003e.%22%2C%20%22detectRetina%22%3A%20false%2C%20%22maxNativeZoom%22%3A%2018%2C%20%22maxZoom%22%3A%2018%2C%20%22minZoom%22%3A%200%2C%20%22noWrap%22%3A%20false%2C%20%22opacity%22%3A%201%2C%20%22subdomains%22%3A%20%22abc%22%2C%20%22tms%22%3A%20false%7D%0A%20%20%20%20%20%20%20%20%20%20%20%20%29.addTo%28map_56c05dbdcf274bd5baa0f4d7bbf6d565%29%3B%0A%20%20%20%20%20%20%20%20%0A%20%20%20%20%0A%20%20%20%20%20%20%20%20%20%20%20%20var%20circle_2e1a6555c49c4c2886efedec5cca0f89%20%3D%20L.circle%28%0A%20%20%20%20%20%20%20%20%20%20%20%20%20%20%20%20%5B-30.17%2C%20-53.5%5D%2C%0A%20%20%20%20%20%20%20%20%20%20%20%20%20%20%20%20%7B%22bubblingMouseEvents%22%3A%20true%2C%20%22color%22%3A%20%22%2369b3a2%22%2C%20%22dashArray%22%3A%20null%2C%20%22dashOffset%22%3A%20null%2C%20%22fill%22%3A%20true%2C%20%22fillColor%22%3A%20%22%2369b3a2%22%2C%20%22fillOpacity%22%3A%200.2%2C%20%22fillRule%22%3A%20%22evenodd%22%2C%20%22lineCap%22%3A%20%22round%22%2C%20%22lineJoin%22%3A%20%22round%22%2C%20%22opacity%22%3A%201.0%2C%20%22radius%22%3A%20238189.70000000257%2C%20%22stroke%22%3A%20true%2C%20%22weight%22%3A%203%7D%0A%20%20%20%20%20%20%20%20%20%20%20%20%29.addTo%28map_56c05dbdcf274bd5baa0f4d7bbf6d565%29%3B%0A%20%20%20%20%20%20%20%20%0A%20%20%20%20%0A%20%20%20%20%20%20%20%20var%20popup_3087e000d4de45d1a21733faaf6ebf10%20%3D%20L.popup%28%7B%22maxWidth%22%3A%20%22100%25%22%7D%29%3B%0A%0A%20%20%20%20%20%20%20%20%0A%20%20%20%20%20%20%20%20%20%20%20%20var%20html_8009a77df3ce4640b556147cfffae290%20%3D%20%24%28%60%3Cdiv%20id%3D%22html_8009a77df3ce4640b556147cfffae290%22%20style%3D%22width%3A%20100.0%25%3B%20height%3A%20100.0%25%3B%22%3ERS%3C/div%3E%60%29%5B0%5D%3B%0A%20%20%20%20%20%20%20%20%20%20%20%20popup_3087e000d4de45d1a21733faaf6ebf10.setContent%28html_8009a77df3ce4640b556147cfffae290%29%3B%0A%20%20%20%20%20%20%20%20%0A%0A%20%20%20%20%20%20%20%20circle_2e1a6555c49c4c2886efedec5cca0f89.bindPopup%28popup_3087e000d4de45d1a21733faaf6ebf10%29%0A%20%20%20%20%20%20%20%20%3B%0A%0A%20%20%20%20%20%20%20%20%0A%20%20%20%20%0A%20%20%20%20%0A%20%20%20%20%20%20%20%20%20%20%20%20circle_2e1a6555c49c4c2886efedec5cca0f89.bindTooltip%28%0A%20%20%20%20%20%20%20%20%20%20%20%20%20%20%20%20%60%3Cdiv%3E%0A%20%20%20%20%20%20%20%20%20%20%20%20%20%20%20%20%20%20%20%20%20RS%20Total%3A%20476379.40%20kw%20de%20pot%C3%AAncia%20instalada.%0A%20%20%20%20%20%20%20%20%20%20%20%20%20%20%20%20%20%3C/div%3E%60%2C%0A%20%20%20%20%20%20%20%20%20%20%20%20%20%20%20%20%7B%22sticky%22%3A%20true%7D%0A%20%20%20%20%20%20%20%20%20%20%20%20%29%3B%0A%20%20%20%20%20%20%20%20%0A%20%20%20%20%0A%20%20%20%20%20%20%20%20%20%20%20%20var%20circle_d48126ff9bf3409c9b8d182d3d89f02f%20%3D%20L.circle%28%0A%20%20%20%20%20%20%20%20%20%20%20%20%20%20%20%20%5B-27.45%2C%20-50.95%5D%2C%0A%20%20%20%20%20%20%20%20%20%20%20%20%20%20%20%20%7B%22bubblingMouseEvents%22%3A%20true%2C%20%22color%22%3A%20%22%2369b3a2%22%2C%20%22dashArray%22%3A%20null%2C%20%22dashOffset%22%3A%20null%2C%20%22fill%22%3A%20true%2C%20%22fillColor%22%3A%20%22%2369b3a2%22%2C%20%22fillOpacity%22%3A%200.2%2C%20%22fillRule%22%3A%20%22evenodd%22%2C%20%22lineCap%22%3A%20%22round%22%2C%20%22lineJoin%22%3A%20%22round%22%2C%20%22opacity%22%3A%201.0%2C%20%22radius%22%3A%2095976.71000000059%2C%20%22stroke%22%3A%20true%2C%20%22weight%22%3A%203%7D%0A%20%20%20%20%20%20%20%20%20%20%20%20%29.addTo%28map_56c05dbdcf274bd5baa0f4d7bbf6d565%29%3B%0A%20%20%20%20%20%20%20%20%0A%20%20%20%20%0A%20%20%20%20%20%20%20%20var%20popup_5f29440a3b604e658a872f91e652bf5c%20%3D%20L.popup%28%7B%22maxWidth%22%3A%20%22100%25%22%7D%29%3B%0A%0A%20%20%20%20%20%20%20%20%0A%20%20%20%20%20%20%20%20%20%20%20%20var%20html_5533b0b059b84f31b1cc7f6724cdf09d%20%3D%20%24%28%60%3Cdiv%20id%3D%22html_5533b0b059b84f31b1cc7f6724cdf09d%22%20style%3D%22width%3A%20100.0%25%3B%20height%3A%20100.0%25%3B%22%3ESC%3C/div%3E%60%29%5B0%5D%3B%0A%20%20%20%20%20%20%20%20%20%20%20%20popup_5f29440a3b604e658a872f91e652bf5c.setContent%28html_5533b0b059b84f31b1cc7f6724cdf09d%29%3B%0A%20%20%20%20%20%20%20%20%0A%0A%20%20%20%20%20%20%20%20circle_d48126ff9bf3409c9b8d182d3d89f02f.bindPopup%28popup_5f29440a3b604e658a872f91e652bf5c%29%0A%20%20%20%20%20%20%20%20%3B%0A%0A%20%20%20%20%20%20%20%20%0A%20%20%20%20%0A%20%20%20%20%0A%20%20%20%20%20%20%20%20%20%20%20%20circle_d48126ff9bf3409c9b8d182d3d89f02f.bindTooltip%28%0A%20%20%20%20%20%20%20%20%20%20%20%20%20%20%20%20%60%3Cdiv%3E%0A%20%20%20%20%20%20%20%20%20%20%20%20%20%20%20%20%20%20%20%20%20SC%20Total%3A%20191953.42%20kw%20de%20pot%C3%AAncia%20instalada.%0A%20%20%20%20%20%20%20%20%20%20%20%20%20%20%20%20%20%3C/div%3E%60%2C%0A%20%20%20%20%20%20%20%20%20%20%20%20%20%20%20%20%7B%22sticky%22%3A%20true%7D%0A%20%20%20%20%20%20%20%20%20%20%20%20%29%3B%0A%20%20%20%20%20%20%20%20%0A%20%20%20%20%0A%20%20%20%20%20%20%20%20%20%20%20%20var%20circle_5ea2dacc1595461092c9049a2224bcbe%20%3D%20L.circle%28%0A%20%20%20%20%20%20%20%20%20%20%20%20%20%20%20%20%5B-24.89%2C%20-51.55%5D%2C%0A%20%20%20%20%20%20%20%20%20%20%20%20%20%20%20%20%7B%22bubblingMouseEvents%22%3A%20true%2C%20%22color%22%3A%20%22%2369b3a2%22%2C%20%22dashArray%22%3A%20null%2C%20%22dashOffset%22%3A%20null%2C%20%22fill%22%3A%20true%2C%20%22fillColor%22%3A%20%22%2369b3a2%22%2C%20%22fillOpacity%22%3A%200.2%2C%20%22fillRule%22%3A%20%22evenodd%22%2C%20%22lineCap%22%3A%20%22round%22%2C%20%22lineJoin%22%3A%20%22round%22%2C%20%22opacity%22%3A%201.0%2C%20%22radius%22%3A%20138336.9000000013%2C%20%22stroke%22%3A%20true%2C%20%22weight%22%3A%203%7D%0A%20%20%20%20%20%20%20%20%20%20%20%20%29.addTo%28map_56c05dbdcf274bd5baa0f4d7bbf6d565%29%3B%0A%20%20%20%20%20%20%20%20%0A%20%20%20%20%0A%20%20%20%20%20%20%20%20var%20popup_34b5583660404373beaa26568b1978de%20%3D%20L.popup%28%7B%22maxWidth%22%3A%20%22100%25%22%7D%29%3B%0A%0A%20%20%20%20%20%20%20%20%0A%20%20%20%20%20%20%20%20%20%20%20%20var%20html_ba407bb4872b41878002029e545bad7f%20%3D%20%24%28%60%3Cdiv%20id%3D%22html_ba407bb4872b41878002029e545bad7f%22%20style%3D%22width%3A%20100.0%25%3B%20height%3A%20100.0%25%3B%22%3EPR%3C/div%3E%60%29%5B0%5D%3B%0A%20%20%20%20%20%20%20%20%20%20%20%20popup_34b5583660404373beaa26568b1978de.setContent%28html_ba407bb4872b41878002029e545bad7f%29%3B%0A%20%20%20%20%20%20%20%20%0A%0A%20%20%20%20%20%20%20%20circle_5ea2dacc1595461092c9049a2224bcbe.bindPopup%28popup_34b5583660404373beaa26568b1978de%29%0A%20%20%20%20%20%20%20%20%3B%0A%0A%20%20%20%20%20%20%20%20%0A%20%20%20%20%0A%20%20%20%20%0A%20%20%20%20%20%20%20%20%20%20%20%20circle_5ea2dacc1595461092c9049a2224bcbe.bindTooltip%28%0A%20%20%20%20%20%20%20%20%20%20%20%20%20%20%20%20%60%3Cdiv%3E%0A%20%20%20%20%20%20%20%20%20%20%20%20%20%20%20%20%20%20%20%20%20PR%20Total%3A%20276673.80%20kw%20de%20pot%C3%AAncia%20instalada.%0A%20%20%20%20%20%20%20%20%20%20%20%20%20%20%20%20%20%3C/div%3E%60%2C%0A%20%20%20%20%20%20%20%20%20%20%20%20%20%20%20%20%7B%22sticky%22%3A%20true%7D%0A%20%20%20%20%20%20%20%20%20%20%20%20%29%3B%0A%20%20%20%20%20%20%20%20%0A%20%20%20%20%0A%20%20%20%20%20%20%20%20%20%20%20%20var%20circle_202bc1a3fde1453f84552db666292d0a%20%3D%20L.circle%28%0A%20%20%20%20%20%20%20%20%20%20%20%20%20%20%20%20%5B-22.25%2C%20-42.66%5D%2C%0A%20%20%20%20%20%20%20%20%20%20%20%20%20%20%20%20%7B%22bubblingMouseEvents%22%3A%20true%2C%20%22color%22%3A%20%22%2369b3a2%22%2C%20%22dashArray%22%3A%20null%2C%20%22dashOffset%22%3A%20null%2C%20%22fill%22%3A%20true%2C%20%22fillColor%22%3A%20%22%2369b3a2%22%2C%20%22fillOpacity%22%3A%200.2%2C%20%22fillRule%22%3A%20%22evenodd%22%2C%20%22lineCap%22%3A%20%22round%22%2C%20%22lineJoin%22%3A%20%22round%22%2C%20%22opacity%22%3A%201.0%2C%20%22radius%22%3A%2074666.38999999964%2C%20%22stroke%22%3A%20true%2C%20%22weight%22%3A%203%7D%0A%20%20%20%20%20%20%20%20%20%20%20%20%29.addTo%28map_56c05dbdcf274bd5baa0f4d7bbf6d565%29%3B%0A%20%20%20%20%20%20%20%20%0A%20%20%20%20%0A%20%20%20%20%20%20%20%20var%20popup_fc033809fb8f454284e0f382bdc86e14%20%3D%20L.popup%28%7B%22maxWidth%22%3A%20%22100%25%22%7D%29%3B%0A%0A%20%20%20%20%20%20%20%20%0A%20%20%20%20%20%20%20%20%20%20%20%20var%20html_4f2bc6ef25bd4c58b8230764f8a4ccdd%20%3D%20%24%28%60%3Cdiv%20id%3D%22html_4f2bc6ef25bd4c58b8230764f8a4ccdd%22%20style%3D%22width%3A%20100.0%25%3B%20height%3A%20100.0%25%3B%22%3ERJ%3C/div%3E%60%29%5B0%5D%3B%0A%20%20%20%20%20%20%20%20%20%20%20%20popup_fc033809fb8f454284e0f382bdc86e14.setContent%28html_4f2bc6ef25bd4c58b8230764f8a4ccdd%29%3B%0A%20%20%20%20%20%20%20%20%0A%0A%20%20%20%20%20%20%20%20circle_202bc1a3fde1453f84552db666292d0a.bindPopup%28popup_fc033809fb8f454284e0f382bdc86e14%29%0A%20%20%20%20%20%20%20%20%3B%0A%0A%20%20%20%20%20%20%20%20%0A%20%20%20%20%0A%20%20%20%20%0A%20%20%20%20%20%20%20%20%20%20%20%20circle_202bc1a3fde1453f84552db666292d0a.bindTooltip%28%0A%20%20%20%20%20%20%20%20%20%20%20%20%20%20%20%20%60%3Cdiv%3E%0A%20%20%20%20%20%20%20%20%20%20%20%20%20%20%20%20%20%20%20%20%20RJ%20Total%3A%20149332.78%20kw%20de%20pot%C3%AAncia%20instalada.%0A%20%20%20%20%20%20%20%20%20%20%20%20%20%20%20%20%20%3C/div%3E%60%2C%0A%20%20%20%20%20%20%20%20%20%20%20%20%20%20%20%20%7B%22sticky%22%3A%20true%7D%0A%20%20%20%20%20%20%20%20%20%20%20%20%29%3B%0A%20%20%20%20%20%20%20%20%0A%20%20%20%20%0A%20%20%20%20%20%20%20%20%20%20%20%20var%20circle_db8c938dcd2a48d3adeefd1be67c4762%20%3D%20L.circle%28%0A%20%20%20%20%20%20%20%20%20%20%20%20%20%20%20%20%5B-22.19%2C%20-48.79%5D%2C%0A%20%20%20%20%20%20%20%20%20%20%20%20%20%20%20%20%7B%22bubblingMouseEvents%22%3A%20true%2C%20%22color%22%3A%20%22%2369b3a2%22%2C%20%22dashArray%22%3A%20null%2C%20%22dashOffset%22%3A%20null%2C%20%22fill%22%3A%20true%2C%20%22fillColor%22%3A%20%22%2369b3a2%22%2C%20%22fillOpacity%22%3A%200.2%2C%20%22fillRule%22%3A%20%22evenodd%22%2C%20%22lineCap%22%3A%20%22round%22%2C%20%22lineJoin%22%3A%20%22round%22%2C%20%22opacity%22%3A%201.0%2C%20%22radius%22%3A%20238418.00000000352%2C%20%22stroke%22%3A%20true%2C%20%22weight%22%3A%203%7D%0A%20%20%20%20%20%20%20%20%20%20%20%20%29.addTo%28map_56c05dbdcf274bd5baa0f4d7bbf6d565%29%3B%0A%20%20%20%20%20%20%20%20%0A%20%20%20%20%0A%20%20%20%20%20%20%20%20var%20popup_67534c7500924b379edcd372abe05ade%20%3D%20L.popup%28%7B%22maxWidth%22%3A%20%22100%25%22%7D%29%3B%0A%0A%20%20%20%20%20%20%20%20%0A%20%20%20%20%20%20%20%20%20%20%20%20var%20html_ba274dac106947dea5cbcf7bfb444bec%20%3D%20%24%28%60%3Cdiv%20id%3D%22html_ba274dac106947dea5cbcf7bfb444bec%22%20style%3D%22width%3A%20100.0%25%3B%20height%3A%20100.0%25%3B%22%3ESP%3C/div%3E%60%29%5B0%5D%3B%0A%20%20%20%20%20%20%20%20%20%20%20%20popup_67534c7500924b379edcd372abe05ade.setContent%28html_ba274dac106947dea5cbcf7bfb444bec%29%3B%0A%20%20%20%20%20%20%20%20%0A%0A%20%20%20%20%20%20%20%20circle_db8c938dcd2a48d3adeefd1be67c4762.bindPopup%28popup_67534c7500924b379edcd372abe05ade%29%0A%20%20%20%20%20%20%20%20%3B%0A%0A%20%20%20%20%20%20%20%20%0A%20%20%20%20%0A%20%20%20%20%0A%20%20%20%20%20%20%20%20%20%20%20%20circle_db8c938dcd2a48d3adeefd1be67c4762.bindTooltip%28%0A%20%20%20%20%20%20%20%20%20%20%20%20%20%20%20%20%60%3Cdiv%3E%0A%20%20%20%20%20%20%20%20%20%20%20%20%20%20%20%20%20%20%20%20%20SP%20Total%3A%20476836.00%20kw%20de%20pot%C3%AAncia%20instalada.%0A%20%20%20%20%20%20%20%20%20%20%20%20%20%20%20%20%20%3C/div%3E%60%2C%0A%20%20%20%20%20%20%20%20%20%20%20%20%20%20%20%20%7B%22sticky%22%3A%20true%7D%0A%20%20%20%20%20%20%20%20%20%20%20%20%29%3B%0A%20%20%20%20%20%20%20%20%0A%20%20%20%20%0A%20%20%20%20%20%20%20%20%20%20%20%20var%20circle_cad04b17470c40e08485a870d313c03f%20%3D%20L.circle%28%0A%20%20%20%20%20%20%20%20%20%20%20%20%20%20%20%20%5B-20.51%2C%20-54.54%5D%2C%0A%20%20%20%20%20%20%20%20%20%20%20%20%20%20%20%20%7B%22bubblingMouseEvents%22%3A%20true%2C%20%22color%22%3A%20%22%2369b3a2%22%2C%20%22dashArray%22%3A%20null%2C%20%22dashOffset%22%3A%20null%2C%20%22fill%22%3A%20true%2C%20%22fillColor%22%3A%20%22%2369b3a2%22%2C%20%22fillOpacity%22%3A%200.2%2C%20%22fillRule%22%3A%20%22evenodd%22%2C%20%22lineCap%22%3A%20%22round%22%2C%20%22lineJoin%22%3A%20%22round%22%2C%20%22opacity%22%3A%201.0%2C%20%22radius%22%3A%2052886.76999999955%2C%20%22stroke%22%3A%20true%2C%20%22weight%22%3A%203%7D%0A%20%20%20%20%20%20%20%20%20%20%20%20%29.addTo%28map_56c05dbdcf274bd5baa0f4d7bbf6d565%29%3B%0A%20%20%20%20%20%20%20%20%0A%20%20%20%20%0A%20%20%20%20%20%20%20%20var%20popup_4c9a01097245430d9ce4f2cfbe98239a%20%3D%20L.popup%28%7B%22maxWidth%22%3A%20%22100%25%22%7D%29%3B%0A%0A%20%20%20%20%20%20%20%20%0A%20%20%20%20%20%20%20%20%20%20%20%20var%20html_639dfe6fc0614581bb53c557085d0ff8%20%3D%20%24%28%60%3Cdiv%20id%3D%22html_639dfe6fc0614581bb53c557085d0ff8%22%20style%3D%22width%3A%20100.0%25%3B%20height%3A%20100.0%25%3B%22%3EMS%3C/div%3E%60%29%5B0%5D%3B%0A%20%20%20%20%20%20%20%20%20%20%20%20popup_4c9a01097245430d9ce4f2cfbe98239a.setContent%28html_639dfe6fc0614581bb53c557085d0ff8%29%3B%0A%20%20%20%20%20%20%20%20%0A%0A%20%20%20%20%20%20%20%20circle_cad04b17470c40e08485a870d313c03f.bindPopup%28popup_4c9a01097245430d9ce4f2cfbe98239a%29%0A%20%20%20%20%20%20%20%20%3B%0A%0A%20%20%20%20%20%20%20%20%0A%20%20%20%20%0A%20%20%20%20%0A%20%20%20%20%20%20%20%20%20%20%20%20circle_cad04b17470c40e08485a870d313c03f.bindTooltip%28%0A%20%20%20%20%20%20%20%20%20%20%20%20%20%20%20%20%60%3Cdiv%3E%0A%20%20%20%20%20%20%20%20%20%20%20%20%20%20%20%20%20%20%20%20%20MS%20Total%3A%20105773.54%20kw%20de%20pot%C3%AAncia%20instalada.%0A%20%20%20%20%20%20%20%20%20%20%20%20%20%20%20%20%20%3C/div%3E%60%2C%0A%20%20%20%20%20%20%20%20%20%20%20%20%20%20%20%20%7B%22sticky%22%3A%20true%7D%0A%20%20%20%20%20%20%20%20%20%20%20%20%29%3B%0A%20%20%20%20%20%20%20%20%0A%20%20%20%20%0A%20%20%20%20%20%20%20%20%20%20%20%20var%20circle_558bfb7dd5404728902e5c7995df616d%20%3D%20L.circle%28%0A%20%20%20%20%20%20%20%20%20%20%20%20%20%20%20%20%5B-19.19%2C%20-40.34%5D%2C%0A%20%20%20%20%20%20%20%20%20%20%20%20%20%20%20%20%7B%22bubblingMouseEvents%22%3A%20true%2C%20%22color%22%3A%20%22%2369b3a2%22%2C%20%22dashArray%22%3A%20null%2C%20%22dashOffset%22%3A%20null%2C%20%22fill%22%3A%20true%2C%20%22fillColor%22%3A%20%22%2369b3a2%22%2C%20%22fillOpacity%22%3A%200.2%2C%20%22fillRule%22%3A%20%22evenodd%22%2C%20%22lineCap%22%3A%20%22round%22%2C%20%22lineJoin%22%3A%20%22round%22%2C%20%22opacity%22%3A%201.0%2C%20%22radius%22%3A%2035494.59499999992%2C%20%22stroke%22%3A%20true%2C%20%22weight%22%3A%203%7D%0A%20%20%20%20%20%20%20%20%20%20%20%20%29.addTo%28map_56c05dbdcf274bd5baa0f4d7bbf6d565%29%3B%0A%20%20%20%20%20%20%20%20%0A%20%20%20%20%0A%20%20%20%20%20%20%20%20var%20popup_35809fc1a61b4fb0a7d71e73c1e9882d%20%3D%20L.popup%28%7B%22maxWidth%22%3A%20%22100%25%22%7D%29%3B%0A%0A%20%20%20%20%20%20%20%20%0A%20%20%20%20%20%20%20%20%20%20%20%20var%20html_41ef1d51fbb54692a63f9f8da3623985%20%3D%20%24%28%60%3Cdiv%20id%3D%22html_41ef1d51fbb54692a63f9f8da3623985%22%20style%3D%22width%3A%20100.0%25%3B%20height%3A%20100.0%25%3B%22%3EES%3C/div%3E%60%29%5B0%5D%3B%0A%20%20%20%20%20%20%20%20%20%20%20%20popup_35809fc1a61b4fb0a7d71e73c1e9882d.setContent%28html_41ef1d51fbb54692a63f9f8da3623985%29%3B%0A%20%20%20%20%20%20%20%20%0A%0A%20%20%20%20%20%20%20%20circle_558bfb7dd5404728902e5c7995df616d.bindPopup%28popup_35809fc1a61b4fb0a7d71e73c1e9882d%29%0A%20%20%20%20%20%20%20%20%3B%0A%0A%20%20%20%20%20%20%20%20%0A%20%20%20%20%0A%20%20%20%20%0A%20%20%20%20%20%20%20%20%20%20%20%20circle_558bfb7dd5404728902e5c7995df616d.bindTooltip%28%0A%20%20%20%20%20%20%20%20%20%20%20%20%20%20%20%20%60%3Cdiv%3E%0A%20%20%20%20%20%20%20%20%20%20%20%20%20%20%20%20%20%20%20%20%20ES%20Total%3A%2070989.19%20kw%20de%20pot%C3%AAncia%20instalada.%0A%20%20%20%20%20%20%20%20%20%20%20%20%20%20%20%20%20%3C/div%3E%60%2C%0A%20%20%20%20%20%20%20%20%20%20%20%20%20%20%20%20%7B%22sticky%22%3A%20true%7D%0A%20%20%20%20%20%20%20%20%20%20%20%20%29%3B%0A%20%20%20%20%20%20%20%20%0A%20%20%20%20%0A%20%20%20%20%20%20%20%20%20%20%20%20var%20circle_26886b9501c44ce3922a30cf2c7533b8%20%3D%20L.circle%28%0A%20%20%20%20%20%20%20%20%20%20%20%20%20%20%20%20%5B-18.1%2C%20-44.38%5D%2C%0A%20%20%20%20%20%20%20%20%20%20%20%20%20%20%20%20%7B%22bubblingMouseEvents%22%3A%20true%2C%20%22color%22%3A%20%22%2369b3a2%22%2C%20%22dashArray%22%3A%20null%2C%20%22dashOffset%22%3A%20null%2C%20%22fill%22%3A%20true%2C%20%22fillColor%22%3A%20%22%2369b3a2%22%2C%20%22fillOpacity%22%3A%200.2%2C%20%22fillRule%22%3A%20%22evenodd%22%2C%20%22lineCap%22%3A%20%22round%22%2C%20%22lineJoin%22%3A%20%22round%22%2C%20%22opacity%22%3A%201.0%2C%20%22radius%22%3A%20377596.9450000008%2C%20%22stroke%22%3A%20true%2C%20%22weight%22%3A%203%7D%0A%20%20%20%20%20%20%20%20%20%20%20%20%29.addTo%28map_56c05dbdcf274bd5baa0f4d7bbf6d565%29%3B%0A%20%20%20%20%20%20%20%20%0A%20%20%20%20%0A%20%20%20%20%20%20%20%20var%20popup_524c026c5c0b47cebd4244e696f7517f%20%3D%20L.popup%28%7B%22maxWidth%22%3A%20%22100%25%22%7D%29%3B%0A%0A%20%20%20%20%20%20%20%20%0A%20%20%20%20%20%20%20%20%20%20%20%20var%20html_c1cfaf9da6254276b93b392c5e2d05cd%20%3D%20%24%28%60%3Cdiv%20id%3D%22html_c1cfaf9da6254276b93b392c5e2d05cd%22%20style%3D%22width%3A%20100.0%25%3B%20height%3A%20100.0%25%3B%22%3EMG%3C/div%3E%60%29%5B0%5D%3B%0A%20%20%20%20%20%20%20%20%20%20%20%20popup_524c026c5c0b47cebd4244e696f7517f.setContent%28html_c1cfaf9da6254276b93b392c5e2d05cd%29%3B%0A%20%20%20%20%20%20%20%20%0A%0A%20%20%20%20%20%20%20%20circle_26886b9501c44ce3922a30cf2c7533b8.bindPopup%28popup_524c026c5c0b47cebd4244e696f7517f%29%0A%20%20%20%20%20%20%20%20%3B%0A%0A%20%20%20%20%20%20%20%20%0A%20%20%20%20%0A%20%20%20%20%0A%20%20%20%20%20%20%20%20%20%20%20%20circle_26886b9501c44ce3922a30cf2c7533b8.bindTooltip%28%0A%20%20%20%20%20%20%20%20%20%20%20%20%20%20%20%20%60%3Cdiv%3E%0A%20%20%20%20%20%20%20%20%20%20%20%20%20%20%20%20%20%20%20%20%20MG%20Total%3A%20755193.89%20kw%20de%20pot%C3%AAncia%20instalada.%0A%20%20%20%20%20%20%20%20%20%20%20%20%20%20%20%20%20%3C/div%3E%60%2C%0A%20%20%20%20%20%20%20%20%20%20%20%20%20%20%20%20%7B%22sticky%22%3A%20true%7D%0A%20%20%20%20%20%20%20%20%20%20%20%20%29%3B%0A%20%20%20%20%20%20%20%20%0A%20%20%20%20%0A%20%20%20%20%20%20%20%20%20%20%20%20var%20circle_f2898b524b9345c3b6befd26b51b3399%20%3D%20L.circle%28%0A%20%20%20%20%20%20%20%20%20%20%20%20%20%20%20%20%5B-15.98%2C%20-49.86%5D%2C%0A%20%20%20%20%20%20%20%20%20%20%20%20%20%20%20%20%7B%22bubblingMouseEvents%22%3A%20true%2C%20%22color%22%3A%20%22%2369b3a2%22%2C%20%22dashArray%22%3A%20null%2C%20%22dashOffset%22%3A%20null%2C%20%22fill%22%3A%20true%2C%20%22fillColor%22%3A%20%22%2369b3a2%22%2C%20%22fillOpacity%22%3A%200.2%2C%20%22fillRule%22%3A%20%22evenodd%22%2C%20%22lineCap%22%3A%20%22round%22%2C%20%22lineJoin%22%3A%20%22round%22%2C%20%22opacity%22%3A%201.0%2C%20%22radius%22%3A%20105983.52500000062%2C%20%22stroke%22%3A%20true%2C%20%22weight%22%3A%203%7D%0A%20%20%20%20%20%20%20%20%20%20%20%20%29.addTo%28map_56c05dbdcf274bd5baa0f4d7bbf6d565%29%3B%0A%20%20%20%20%20%20%20%20%0A%20%20%20%20%0A%20%20%20%20%20%20%20%20var%20popup_3edc945f83574df199227b05fb5abdf6%20%3D%20L.popup%28%7B%22maxWidth%22%3A%20%22100%25%22%7D%29%3B%0A%0A%20%20%20%20%20%20%20%20%0A%20%20%20%20%20%20%20%20%20%20%20%20var%20html_79436c7a7c53412d8cb31e314fe81195%20%3D%20%24%28%60%3Cdiv%20id%3D%22html_79436c7a7c53412d8cb31e314fe81195%22%20style%3D%22width%3A%20100.0%25%3B%20height%3A%20100.0%25%3B%22%3EGO%3C/div%3E%60%29%5B0%5D%3B%0A%20%20%20%20%20%20%20%20%20%20%20%20popup_3edc945f83574df199227b05fb5abdf6.setContent%28html_79436c7a7c53412d8cb31e314fe81195%29%3B%0A%20%20%20%20%20%20%20%20%0A%0A%20%20%20%20%20%20%20%20circle_f2898b524b9345c3b6befd26b51b3399.bindPopup%28popup_3edc945f83574df199227b05fb5abdf6%29%0A%20%20%20%20%20%20%20%20%3B%0A%0A%20%20%20%20%20%20%20%20%0A%20%20%20%20%0A%20%20%20%20%0A%20%20%20%20%20%20%20%20%20%20%20%20circle_f2898b524b9345c3b6befd26b51b3399.bindTooltip%28%0A%20%20%20%20%20%20%20%20%20%20%20%20%20%20%20%20%60%3Cdiv%3E%0A%20%20%20%20%20%20%20%20%20%20%20%20%20%20%20%20%20%20%20%20%20GO%20Total%3A%20211967.05%20kw%20de%20pot%C3%AAncia%20instalada.%0A%20%20%20%20%20%20%20%20%20%20%20%20%20%20%20%20%20%3C/div%3E%60%2C%0A%20%20%20%20%20%20%20%20%20%20%20%20%20%20%20%20%7B%22sticky%22%3A%20true%7D%0A%20%20%20%20%20%20%20%20%20%20%20%20%29%3B%0A%20%20%20%20%20%20%20%20%0A%20%20%20%20%0A%20%20%20%20%20%20%20%20%20%20%20%20var%20circle_30fbef9f95b54987885ad62774b04489%20%3D%20L.circle%28%0A%20%20%20%20%20%20%20%20%20%20%20%20%20%20%20%20%5B-15.83%2C%20-47.86%5D%2C%0A%20%20%20%20%20%20%20%20%20%20%20%20%20%20%20%20%7B%22bubblingMouseEvents%22%3A%20true%2C%20%22color%22%3A%20%22%2369b3a2%22%2C%20%22dashArray%22%3A%20null%2C%20%22dashOffset%22%3A%20null%2C%20%22fill%22%3A%20true%2C%20%22fillColor%22%3A%20%22%2369b3a2%22%2C%20%22fillOpacity%22%3A%200.2%2C%20%22fillRule%22%3A%20%22evenodd%22%2C%20%22lineCap%22%3A%20%22round%22%2C%20%22lineJoin%22%3A%20%22round%22%2C%20%22opacity%22%3A%201.0%2C%20%22radius%22%3A%2016684.035000000003%2C%20%22stroke%22%3A%20true%2C%20%22weight%22%3A%203%7D%0A%20%20%20%20%20%20%20%20%20%20%20%20%29.addTo%28map_56c05dbdcf274bd5baa0f4d7bbf6d565%29%3B%0A%20%20%20%20%20%20%20%20%0A%20%20%20%20%0A%20%20%20%20%20%20%20%20var%20popup_3ce5c1d51cfe445f86a717099b1b6f52%20%3D%20L.popup%28%7B%22maxWidth%22%3A%20%22100%25%22%7D%29%3B%0A%0A%20%20%20%20%20%20%20%20%0A%20%20%20%20%20%20%20%20%20%20%20%20var%20html_5285c3704f3b486b9e5114c1db110bc0%20%3D%20%24%28%60%3Cdiv%20id%3D%22html_5285c3704f3b486b9e5114c1db110bc0%22%20style%3D%22width%3A%20100.0%25%3B%20height%3A%20100.0%25%3B%22%3EDF%3C/div%3E%60%29%5B0%5D%3B%0A%20%20%20%20%20%20%20%20%20%20%20%20popup_3ce5c1d51cfe445f86a717099b1b6f52.setContent%28html_5285c3704f3b486b9e5114c1db110bc0%29%3B%0A%20%20%20%20%20%20%20%20%0A%0A%20%20%20%20%20%20%20%20circle_30fbef9f95b54987885ad62774b04489.bindPopup%28popup_3ce5c1d51cfe445f86a717099b1b6f52%29%0A%20%20%20%20%20%20%20%20%3B%0A%0A%20%20%20%20%20%20%20%20%0A%20%20%20%20%0A%20%20%20%20%0A%20%20%20%20%20%20%20%20%20%20%20%20circle_30fbef9f95b54987885ad62774b04489.bindTooltip%28%0A%20%20%20%20%20%20%20%20%20%20%20%20%20%20%20%20%60%3Cdiv%3E%0A%20%20%20%20%20%20%20%20%20%20%20%20%20%20%20%20%20%20%20%20%20DF%20Total%3A%2033368.07%20kw%20de%20pot%C3%AAncia%20instalada.%0A%20%20%20%20%20%20%20%20%20%20%20%20%20%20%20%20%20%3C/div%3E%60%2C%0A%20%20%20%20%20%20%20%20%20%20%20%20%20%20%20%20%7B%22sticky%22%3A%20true%7D%0A%20%20%20%20%20%20%20%20%20%20%20%20%29%3B%0A%20%20%20%20%20%20%20%20%0A%20%20%20%20%0A%20%20%20%20%20%20%20%20%20%20%20%20var%20circle_1044149a536d46c1a11d1a85ac44b104%20%3D%20L.circle%28%0A%20%20%20%20%20%20%20%20%20%20%20%20%20%20%20%20%5B-13.29%2C%20-41.71%5D%2C%0A%20%20%20%20%20%20%20%20%20%20%20%20%20%20%20%20%7B%22bubblingMouseEvents%22%3A%20true%2C%20%22color%22%3A%20%22%2369b3a2%22%2C%20%22dashArray%22%3A%20null%2C%20%22dashOffset%22%3A%20null%2C%20%22fill%22%3A%20true%2C%20%22fillColor%22%3A%20%22%2369b3a2%22%2C%20%22fillOpacity%22%3A%200.2%2C%20%22fillRule%22%3A%20%22evenodd%22%2C%20%22lineCap%22%3A%20%22round%22%2C%20%22lineJoin%22%3A%20%22round%22%2C%20%22opacity%22%3A%201.0%2C%20%22radius%22%3A%2066515.88499999957%2C%20%22stroke%22%3A%20true%2C%20%22weight%22%3A%203%7D%0A%20%20%20%20%20%20%20%20%20%20%20%20%29.addTo%28map_56c05dbdcf274bd5baa0f4d7bbf6d565%29%3B%0A%20%20%20%20%20%20%20%20%0A%20%20%20%20%0A%20%20%20%20%20%20%20%20var%20popup_bab95d78d51f4736b133effece307af6%20%3D%20L.popup%28%7B%22maxWidth%22%3A%20%22100%25%22%7D%29%3B%0A%0A%20%20%20%20%20%20%20%20%0A%20%20%20%20%20%20%20%20%20%20%20%20var%20html_6177d955c40648c0ba4265a7d8c1e6c2%20%3D%20%24%28%60%3Cdiv%20id%3D%22html_6177d955c40648c0ba4265a7d8c1e6c2%22%20style%3D%22width%3A%20100.0%25%3B%20height%3A%20100.0%25%3B%22%3EBA%3C/div%3E%60%29%5B0%5D%3B%0A%20%20%20%20%20%20%20%20%20%20%20%20popup_bab95d78d51f4736b133effece307af6.setContent%28html_6177d955c40648c0ba4265a7d8c1e6c2%29%3B%0A%20%20%20%20%20%20%20%20%0A%0A%20%20%20%20%20%20%20%20circle_1044149a536d46c1a11d1a85ac44b104.bindPopup%28popup_bab95d78d51f4736b133effece307af6%29%0A%20%20%20%20%20%20%20%20%3B%0A%0A%20%20%20%20%20%20%20%20%0A%20%20%20%20%0A%20%20%20%20%0A%20%20%20%20%20%20%20%20%20%20%20%20circle_1044149a536d46c1a11d1a85ac44b104.bindTooltip%28%0A%20%20%20%20%20%20%20%20%20%20%20%20%20%20%20%20%60%3Cdiv%3E%0A%20%20%20%20%20%20%20%20%20%20%20%20%20%20%20%20%20%20%20%20%20BA%20Total%3A%20133031.77%20kw%20de%20pot%C3%AAncia%20instalada.%0A%20%20%20%20%20%20%20%20%20%20%20%20%20%20%20%20%20%3C/div%3E%60%2C%0A%20%20%20%20%20%20%20%20%20%20%20%20%20%20%20%20%7B%22sticky%22%3A%20true%7D%0A%20%20%20%20%20%20%20%20%20%20%20%20%29%3B%0A%20%20%20%20%20%20%20%20%0A%20%20%20%20%0A%20%20%20%20%20%20%20%20%20%20%20%20var%20circle_bc79e2b640424f27989772d7666c845d%20%3D%20L.circle%28%0A%20%20%20%20%20%20%20%20%20%20%20%20%20%20%20%20%5B-12.64%2C%20-55.42%5D%2C%0A%20%20%20%20%20%20%20%20%20%20%20%20%20%20%20%20%7B%22bubblingMouseEvents%22%3A%20true%2C%20%22color%22%3A%20%22%2369b3a2%22%2C%20%22dashArray%22%3A%20null%2C%20%22dashOffset%22%3A%20null%2C%20%22fill%22%3A%20true%2C%20%22fillColor%22%3A%20%22%2369b3a2%22%2C%20%22fillOpacity%22%3A%200.2%2C%20%22fillRule%22%3A%20%22evenodd%22%2C%20%22lineCap%22%3A%20%22round%22%2C%20%22lineJoin%22%3A%20%22round%22%2C%20%22opacity%22%3A%201.0%2C%20%22radius%22%3A%20137230.42000000158%2C%20%22stroke%22%3A%20true%2C%20%22weight%22%3A%203%7D%0A%20%20%20%20%20%20%20%20%20%20%20%20%29.addTo%28map_56c05dbdcf274bd5baa0f4d7bbf6d565%29%3B%0A%20%20%20%20%20%20%20%20%0A%20%20%20%20%0A%20%20%20%20%20%20%20%20var%20popup_f7a618af52014dc8a9afd7fa940c4971%20%3D%20L.popup%28%7B%22maxWidth%22%3A%20%22100%25%22%7D%29%3B%0A%0A%20%20%20%20%20%20%20%20%0A%20%20%20%20%20%20%20%20%20%20%20%20var%20html_3b12c10c86824c8e85747828fcafbaf8%20%3D%20%24%28%60%3Cdiv%20id%3D%22html_3b12c10c86824c8e85747828fcafbaf8%22%20style%3D%22width%3A%20100.0%25%3B%20height%3A%20100.0%25%3B%22%3EMT%3C/div%3E%60%29%5B0%5D%3B%0A%20%20%20%20%20%20%20%20%20%20%20%20popup_f7a618af52014dc8a9afd7fa940c4971.setContent%28html_3b12c10c86824c8e85747828fcafbaf8%29%3B%0A%20%20%20%20%20%20%20%20%0A%0A%20%20%20%20%20%20%20%20circle_bc79e2b640424f27989772d7666c845d.bindPopup%28popup_f7a618af52014dc8a9afd7fa940c4971%29%0A%20%20%20%20%20%20%20%20%3B%0A%0A%20%20%20%20%20%20%20%20%0A%20%20%20%20%0A%20%20%20%20%0A%20%20%20%20%20%20%20%20%20%20%20%20circle_bc79e2b640424f27989772d7666c845d.bindTooltip%28%0A%20%20%20%20%20%20%20%20%20%20%20%20%20%20%20%20%60%3Cdiv%3E%0A%20%20%20%20%20%20%20%20%20%20%20%20%20%20%20%20%20%20%20%20%20MT%20Total%3A%20274460.84%20kw%20de%20pot%C3%AAncia%20instalada.%0A%20%20%20%20%20%20%20%20%20%20%20%20%20%20%20%20%20%3C/div%3E%60%2C%0A%20%20%20%20%20%20%20%20%20%20%20%20%20%20%20%20%7B%22sticky%22%3A%20true%7D%0A%20%20%20%20%20%20%20%20%20%20%20%20%29%3B%0A%20%20%20%20%20%20%20%20%0A%20%20%20%20%0A%20%20%20%20%20%20%20%20%20%20%20%20var%20circle_ef88899f5b194375b13274fd239c03a3%20%3D%20L.circle%28%0A%20%20%20%20%20%20%20%20%20%20%20%20%20%20%20%20%5B-10.83%2C%20-63.34%5D%2C%0A%20%20%20%20%20%20%20%20%20%20%20%20%20%20%20%20%7B%22bubblingMouseEvents%22%3A%20true%2C%20%22color%22%3A%20%22%2369b3a2%22%2C%20%22dashArray%22%3A%20null%2C%20%22dashOffset%22%3A%20null%2C%20%22fill%22%3A%20true%2C%20%22fillColor%22%3A%20%22%2369b3a2%22%2C%20%22fillOpacity%22%3A%200.2%2C%20%22fillRule%22%3A%20%22evenodd%22%2C%20%22lineCap%22%3A%20%22round%22%2C%20%22lineJoin%22%3A%20%22round%22%2C%20%22opacity%22%3A%201.0%2C%20%22radius%22%3A%2011800.945000000012%2C%20%22stroke%22%3A%20true%2C%20%22weight%22%3A%203%7D%0A%20%20%20%20%20%20%20%20%20%20%20%20%29.addTo%28map_56c05dbdcf274bd5baa0f4d7bbf6d565%29%3B%0A%20%20%20%20%20%20%20%20%0A%20%20%20%20%0A%20%20%20%20%20%20%20%20var%20popup_b7bd4513e6794506888a0e07d7758402%20%3D%20L.popup%28%7B%22maxWidth%22%3A%20%22100%25%22%7D%29%3B%0A%0A%20%20%20%20%20%20%20%20%0A%20%20%20%20%20%20%20%20%20%20%20%20var%20html_284e51f9cbe240938e7e2712868fc4f1%20%3D%20%24%28%60%3Cdiv%20id%3D%22html_284e51f9cbe240938e7e2712868fc4f1%22%20style%3D%22width%3A%20100.0%25%3B%20height%3A%20100.0%25%3B%22%3ERO%3C/div%3E%60%29%5B0%5D%3B%0A%20%20%20%20%20%20%20%20%20%20%20%20popup_b7bd4513e6794506888a0e07d7758402.setContent%28html_284e51f9cbe240938e7e2712868fc4f1%29%3B%0A%20%20%20%20%20%20%20%20%0A%0A%20%20%20%20%20%20%20%20circle_ef88899f5b194375b13274fd239c03a3.bindPopup%28popup_b7bd4513e6794506888a0e07d7758402%29%0A%20%20%20%20%20%20%20%20%3B%0A%0A%20%20%20%20%20%20%20%20%0A%20%20%20%20%0A%20%20%20%20%0A%20%20%20%20%20%20%20%20%20%20%20%20circle_ef88899f5b194375b13274fd239c03a3.bindTooltip%28%0A%20%20%20%20%20%20%20%20%20%20%20%20%20%20%20%20%60%3Cdiv%3E%0A%20%20%20%20%20%20%20%20%20%20%20%20%20%20%20%20%20%20%20%20%20RO%20Total%3A%2023601.89%20kw%20de%20pot%C3%AAncia%20instalada.%0A%20%20%20%20%20%20%20%20%20%20%20%20%20%20%20%20%20%3C/div%3E%60%2C%0A%20%20%20%20%20%20%20%20%20%20%20%20%20%20%20%20%7B%22sticky%22%3A%20true%7D%0A%20%20%20%20%20%20%20%20%20%20%20%20%29%3B%0A%20%20%20%20%20%20%20%20%0A%20%20%20%20%0A%20%20%20%20%20%20%20%20%20%20%20%20var%20circle_ceb122a2fc294d01b238e34f71c6746d%20%3D%20L.circle%28%0A%20%20%20%20%20%20%20%20%20%20%20%20%20%20%20%20%5B-10.57%2C%20-37.45%5D%2C%0A%20%20%20%20%20%20%20%20%20%20%20%20%20%20%20%20%7B%22bubblingMouseEvents%22%3A%20true%2C%20%22color%22%3A%20%22%2369b3a2%22%2C%20%22dashArray%22%3A%20null%2C%20%22dashOffset%22%3A%20null%2C%20%22fill%22%3A%20true%2C%20%22fillColor%22%3A%20%22%2369b3a2%22%2C%20%22fillOpacity%22%3A%200.2%2C%20%22fillRule%22%3A%20%22evenodd%22%2C%20%22lineCap%22%3A%20%22round%22%2C%20%22lineJoin%22%3A%20%22round%22%2C%20%22opacity%22%3A%201.0%2C%20%22radius%22%3A%209684.615000000014%2C%20%22stroke%22%3A%20true%2C%20%22weight%22%3A%203%7D%0A%20%20%20%20%20%20%20%20%20%20%20%20%29.addTo%28map_56c05dbdcf274bd5baa0f4d7bbf6d565%29%3B%0A%20%20%20%20%20%20%20%20%0A%20%20%20%20%0A%20%20%20%20%20%20%20%20var%20popup_a9540b01efc64369b8c0abe09530b127%20%3D%20L.popup%28%7B%22maxWidth%22%3A%20%22100%25%22%7D%29%3B%0A%0A%20%20%20%20%20%20%20%20%0A%20%20%20%20%20%20%20%20%20%20%20%20var%20html_86d4167650b8474785e9c7cd379633c5%20%3D%20%24%28%60%3Cdiv%20id%3D%22html_86d4167650b8474785e9c7cd379633c5%22%20style%3D%22width%3A%20100.0%25%3B%20height%3A%20100.0%25%3B%22%3ESE%3C/div%3E%60%29%5B0%5D%3B%0A%20%20%20%20%20%20%20%20%20%20%20%20popup_a9540b01efc64369b8c0abe09530b127.setContent%28html_86d4167650b8474785e9c7cd379633c5%29%3B%0A%20%20%20%20%20%20%20%20%0A%0A%20%20%20%20%20%20%20%20circle_ceb122a2fc294d01b238e34f71c6746d.bindPopup%28popup_a9540b01efc64369b8c0abe09530b127%29%0A%20%20%20%20%20%20%20%20%3B%0A%0A%20%20%20%20%20%20%20%20%0A%20%20%20%20%0A%20%20%20%20%0A%20%20%20%20%20%20%20%20%20%20%20%20circle_ceb122a2fc294d01b238e34f71c6746d.bindTooltip%28%0A%20%20%20%20%20%20%20%20%20%20%20%20%20%20%20%20%60%3Cdiv%3E%0A%20%20%20%20%20%20%20%20%20%20%20%20%20%20%20%20%20%20%20%20%20SE%20Total%3A%2019369.23%20kw%20de%20pot%C3%AAncia%20instalada.%0A%20%20%20%20%20%20%20%20%20%20%20%20%20%20%20%20%20%3C/div%3E%60%2C%0A%20%20%20%20%20%20%20%20%20%20%20%20%20%20%20%20%7B%22sticky%22%3A%20true%7D%0A%20%20%20%20%20%20%20%20%20%20%20%20%29%3B%0A%20%20%20%20%20%20%20%20%0A%20%20%20%20%0A%20%20%20%20%20%20%20%20%20%20%20%20var%20circle_5720e74ac2634ab5a72ee383a17324b3%20%3D%20L.circle%28%0A%20%20%20%20%20%20%20%20%20%20%20%20%20%20%20%20%5B-9.62%2C%20-36.82%5D%2C%0A%20%20%20%20%20%20%20%20%20%20%20%20%20%20%20%20%7B%22bubblingMouseEvents%22%3A%20true%2C%20%22color%22%3A%20%22%2369b3a2%22%2C%20%22dashArray%22%3A%20null%2C%20%22dashOffset%22%3A%20null%2C%20%22fill%22%3A%20true%2C%20%22fillColor%22%3A%20%22%2369b3a2%22%2C%20%22fillOpacity%22%3A%200.2%2C%20%22fillRule%22%3A%20%22evenodd%22%2C%20%22lineCap%22%3A%20%22round%22%2C%20%22lineJoin%22%3A%20%22round%22%2C%20%22opacity%22%3A%201.0%2C%20%22radius%22%3A%2014252.885000000024%2C%20%22stroke%22%3A%20true%2C%20%22weight%22%3A%203%7D%0A%20%20%20%20%20%20%20%20%20%20%20%20%29.addTo%28map_56c05dbdcf274bd5baa0f4d7bbf6d565%29%3B%0A%20%20%20%20%20%20%20%20%0A%20%20%20%20%0A%20%20%20%20%20%20%20%20var%20popup_2e03ee3cef5140428236eb68df5f3c72%20%3D%20L.popup%28%7B%22maxWidth%22%3A%20%22100%25%22%7D%29%3B%0A%0A%20%20%20%20%20%20%20%20%0A%20%20%20%20%20%20%20%20%20%20%20%20var%20html_fac0b19979b5425abf1e240478948c61%20%3D%20%24%28%60%3Cdiv%20id%3D%22html_fac0b19979b5425abf1e240478948c61%22%20style%3D%22width%3A%20100.0%25%3B%20height%3A%20100.0%25%3B%22%3EAL%3C/div%3E%60%29%5B0%5D%3B%0A%20%20%20%20%20%20%20%20%20%20%20%20popup_2e03ee3cef5140428236eb68df5f3c72.setContent%28html_fac0b19979b5425abf1e240478948c61%29%3B%0A%20%20%20%20%20%20%20%20%0A%0A%20%20%20%20%20%20%20%20circle_5720e74ac2634ab5a72ee383a17324b3.bindPopup%28popup_2e03ee3cef5140428236eb68df5f3c72%29%0A%20%20%20%20%20%20%20%20%3B%0A%0A%20%20%20%20%20%20%20%20%0A%20%20%20%20%0A%20%20%20%20%0A%20%20%20%20%20%20%20%20%20%20%20%20circle_5720e74ac2634ab5a72ee383a17324b3.bindTooltip%28%0A%20%20%20%20%20%20%20%20%20%20%20%20%20%20%20%20%60%3Cdiv%3E%0A%20%20%20%20%20%20%20%20%20%20%20%20%20%20%20%20%20%20%20%20%20AL%20Total%3A%2028505.77%20kw%20de%20pot%C3%AAncia%20instalada.%0A%20%20%20%20%20%20%20%20%20%20%20%20%20%20%20%20%20%3C/div%3E%60%2C%0A%20%20%20%20%20%20%20%20%20%20%20%20%20%20%20%20%7B%22sticky%22%3A%20true%7D%0A%20%20%20%20%20%20%20%20%20%20%20%20%29%3B%0A%20%20%20%20%20%20%20%20%0A%20%20%20%20%0A%20%20%20%20%20%20%20%20%20%20%20%20var%20circle_62ec0a9398084a6e872b28ceb8403e6c%20%3D%20L.circle%28%0A%20%20%20%20%20%20%20%20%20%20%20%20%20%20%20%20%5B-9.46%2C%20-48.26%5D%2C%0A%20%20%20%20%20%20%20%20%20%20%20%20%20%20%20%20%7B%22bubblingMouseEvents%22%3A%20true%2C%20%22color%22%3A%20%22%2369b3a2%22%2C%20%22dashArray%22%3A%20null%2C%20%22dashOffset%22%3A%20null%2C%20%22fill%22%3A%20true%2C%20%22fillColor%22%3A%20%22%2369b3a2%22%2C%20%22fillOpacity%22%3A%200.2%2C%20%22fillRule%22%3A%20%22evenodd%22%2C%20%22lineCap%22%3A%20%22round%22%2C%20%22lineJoin%22%3A%20%22round%22%2C%20%22opacity%22%3A%201.0%2C%20%22radius%22%3A%2012783.365000000027%2C%20%22stroke%22%3A%20true%2C%20%22weight%22%3A%203%7D%0A%20%20%20%20%20%20%20%20%20%20%20%20%29.addTo%28map_56c05dbdcf274bd5baa0f4d7bbf6d565%29%3B%0A%20%20%20%20%20%20%20%20%0A%20%20%20%20%0A%20%20%20%20%20%20%20%20var%20popup_814dd802f9854f88bd1fff04ccfa9691%20%3D%20L.popup%28%7B%22maxWidth%22%3A%20%22100%25%22%7D%29%3B%0A%0A%20%20%20%20%20%20%20%20%0A%20%20%20%20%20%20%20%20%20%20%20%20var%20html_4771c82c68734d29a83a406d84373648%20%3D%20%24%28%60%3Cdiv%20id%3D%22html_4771c82c68734d29a83a406d84373648%22%20style%3D%22width%3A%20100.0%25%3B%20height%3A%20100.0%25%3B%22%3ETO%3C/div%3E%60%29%5B0%5D%3B%0A%20%20%20%20%20%20%20%20%20%20%20%20popup_814dd802f9854f88bd1fff04ccfa9691.setContent%28html_4771c82c68734d29a83a406d84373648%29%3B%0A%20%20%20%20%20%20%20%20%0A%0A%20%20%20%20%20%20%20%20circle_62ec0a9398084a6e872b28ceb8403e6c.bindPopup%28popup_814dd802f9854f88bd1fff04ccfa9691%29%0A%20%20%20%20%20%20%20%20%3B%0A%0A%20%20%20%20%20%20%20%20%0A%20%20%20%20%0A%20%20%20%20%0A%20%20%20%20%20%20%20%20%20%20%20%20circle_62ec0a9398084a6e872b28ceb8403e6c.bindTooltip%28%0A%20%20%20%20%20%20%20%20%20%20%20%20%20%20%20%20%60%3Cdiv%3E%0A%20%20%20%20%20%20%20%20%20%20%20%20%20%20%20%20%20%20%20%20%20TO%20Total%3A%2025566.73%20kw%20de%20pot%C3%AAncia%20instalada.%0A%20%20%20%20%20%20%20%20%20%20%20%20%20%20%20%20%20%3C/div%3E%60%2C%0A%20%20%20%20%20%20%20%20%20%20%20%20%20%20%20%20%7B%22sticky%22%3A%20true%7D%0A%20%20%20%20%20%20%20%20%20%20%20%20%29%3B%0A%20%20%20%20%20%20%20%20%0A%20%20%20%20%0A%20%20%20%20%20%20%20%20%20%20%20%20var%20circle_45b58bb2ce5346c58975517fdf1845ae%20%3D%20L.circle%28%0A%20%20%20%20%20%20%20%20%20%20%20%20%20%20%20%20%5B-8.77%2C%20-70.55%5D%2C%0A%20%20%20%20%20%20%20%20%20%20%20%20%20%20%20%20%7B%22bubblingMouseEvents%22%3A%20true%2C%20%22color%22%3A%20%22%2369b3a2%22%2C%20%22dashArray%22%3A%20null%2C%20%22dashOffset%22%3A%20null%2C%20%22fill%22%3A%20true%2C%20%22fillColor%22%3A%20%22%2369b3a2%22%2C%20%22fillOpacity%22%3A%200.2%2C%20%22fillRule%22%3A%20%22evenodd%22%2C%20%22lineCap%22%3A%20%22round%22%2C%20%22lineJoin%22%3A%20%22round%22%2C%20%22opacity%22%3A%201.0%2C%20%22radius%22%3A%203173.3249999999953%2C%20%22stroke%22%3A%20true%2C%20%22weight%22%3A%203%7D%0A%20%20%20%20%20%20%20%20%20%20%20%20%29.addTo%28map_56c05dbdcf274bd5baa0f4d7bbf6d565%29%3B%0A%20%20%20%20%20%20%20%20%0A%20%20%20%20%0A%20%20%20%20%20%20%20%20var%20popup_d6c6de1d22c742cb841ce9254762f4b0%20%3D%20L.popup%28%7B%22maxWidth%22%3A%20%22100%25%22%7D%29%3B%0A%0A%20%20%20%20%20%20%20%20%0A%20%20%20%20%20%20%20%20%20%20%20%20var%20html_69ddab5dc9514f0c9f17bfb1fa943868%20%3D%20%24%28%60%3Cdiv%20id%3D%22html_69ddab5dc9514f0c9f17bfb1fa943868%22%20style%3D%22width%3A%20100.0%25%3B%20height%3A%20100.0%25%3B%22%3EAC%3C/div%3E%60%29%5B0%5D%3B%0A%20%20%20%20%20%20%20%20%20%20%20%20popup_d6c6de1d22c742cb841ce9254762f4b0.setContent%28html_69ddab5dc9514f0c9f17bfb1fa943868%29%3B%0A%20%20%20%20%20%20%20%20%0A%0A%20%20%20%20%20%20%20%20circle_45b58bb2ce5346c58975517fdf1845ae.bindPopup%28popup_d6c6de1d22c742cb841ce9254762f4b0%29%0A%20%20%20%20%20%20%20%20%3B%0A%0A%20%20%20%20%20%20%20%20%0A%20%20%20%20%0A%20%20%20%20%0A%20%20%20%20%20%20%20%20%20%20%20%20circle_45b58bb2ce5346c58975517fdf1845ae.bindTooltip%28%0A%20%20%20%20%20%20%20%20%20%20%20%20%20%20%20%20%60%3Cdiv%3E%0A%20%20%20%20%20%20%20%20%20%20%20%20%20%20%20%20%20%20%20%20%20AC%20Total%3A%206346.65%20kw%20de%20pot%C3%AAncia%20instalada.%0A%20%20%20%20%20%20%20%20%20%20%20%20%20%20%20%20%20%3C/div%3E%60%2C%0A%20%20%20%20%20%20%20%20%20%20%20%20%20%20%20%20%7B%22sticky%22%3A%20true%7D%0A%20%20%20%20%20%20%20%20%20%20%20%20%29%3B%0A%20%20%20%20%20%20%20%20%0A%20%20%20%20%0A%20%20%20%20%20%20%20%20%20%20%20%20var%20circle_f502b4cf0b3044e58f32c90ea52c790a%20%3D%20L.circle%28%0A%20%20%20%20%20%20%20%20%20%20%20%20%20%20%20%20%5B-8.38%2C%20-37.86%5D%2C%0A%20%20%20%20%20%20%20%20%20%20%20%20%20%20%20%20%7B%22bubblingMouseEvents%22%3A%20true%2C%20%22color%22%3A%20%22%2369b3a2%22%2C%20%22dashArray%22%3A%20null%2C%20%22dashOffset%22%3A%20null%2C%20%22fill%22%3A%20true%2C%20%22fillColor%22%3A%20%22%2369b3a2%22%2C%20%22fillOpacity%22%3A%200.2%2C%20%22fillRule%22%3A%20%22evenodd%22%2C%20%22lineCap%22%3A%20%22round%22%2C%20%22lineJoin%22%3A%20%22round%22%2C%20%22opacity%22%3A%201.0%2C%20%22radius%22%3A%2051881.229999999836%2C%20%22stroke%22%3A%20true%2C%20%22weight%22%3A%203%7D%0A%20%20%20%20%20%20%20%20%20%20%20%20%29.addTo%28map_56c05dbdcf274bd5baa0f4d7bbf6d565%29%3B%0A%20%20%20%20%20%20%20%20%0A%20%20%20%20%0A%20%20%20%20%20%20%20%20var%20popup_e8eb552161de41d7a4368e8bc066f5e4%20%3D%20L.popup%28%7B%22maxWidth%22%3A%20%22100%25%22%7D%29%3B%0A%0A%20%20%20%20%20%20%20%20%0A%20%20%20%20%20%20%20%20%20%20%20%20var%20html_d8cbf3e9db8748bd82b631555db667cd%20%3D%20%24%28%60%3Cdiv%20id%3D%22html_d8cbf3e9db8748bd82b631555db667cd%22%20style%3D%22width%3A%20100.0%25%3B%20height%3A%20100.0%25%3B%22%3EPE%3C/div%3E%60%29%5B0%5D%3B%0A%20%20%20%20%20%20%20%20%20%20%20%20popup_e8eb552161de41d7a4368e8bc066f5e4.setContent%28html_d8cbf3e9db8748bd82b631555db667cd%29%3B%0A%20%20%20%20%20%20%20%20%0A%0A%20%20%20%20%20%20%20%20circle_f502b4cf0b3044e58f32c90ea52c790a.bindPopup%28popup_e8eb552161de41d7a4368e8bc066f5e4%29%0A%20%20%20%20%20%20%20%20%3B%0A%0A%20%20%20%20%20%20%20%20%0A%20%20%20%20%0A%20%20%20%20%0A%20%20%20%20%20%20%20%20%20%20%20%20circle_f502b4cf0b3044e58f32c90ea52c790a.bindTooltip%28%0A%20%20%20%20%20%20%20%20%20%20%20%20%20%20%20%20%60%3Cdiv%3E%0A%20%20%20%20%20%20%20%20%20%20%20%20%20%20%20%20%20%20%20%20%20PE%20Total%3A%20103762.46%20kw%20de%20pot%C3%AAncia%20instalada.%0A%20%20%20%20%20%20%20%20%20%20%20%20%20%20%20%20%20%3C/div%3E%60%2C%0A%20%20%20%20%20%20%20%20%20%20%20%20%20%20%20%20%7B%22sticky%22%3A%20true%7D%0A%20%20%20%20%20%20%20%20%20%20%20%20%29%3B%0A%20%20%20%20%20%20%20%20%0A%20%20%20%20%0A%20%20%20%20%20%20%20%20%20%20%20%20var%20circle_8819bae9f19f495ba03d567a32b763cd%20%3D%20L.circle%28%0A%20%20%20%20%20%20%20%20%20%20%20%20%20%20%20%20%5B-7.28%2C%20-36.72%5D%2C%0A%20%20%20%20%20%20%20%20%20%20%20%20%20%20%20%20%7B%22bubblingMouseEvents%22%3A%20true%2C%20%22color%22%3A%20%22%2369b3a2%22%2C%20%22dashArray%22%3A%20null%2C%20%22dashOffset%22%3A%20null%2C%20%22fill%22%3A%20true%2C%20%22fillColor%22%3A%20%22%2369b3a2%22%2C%20%22fillOpacity%22%3A%200.2%2C%20%22fillRule%22%3A%20%22evenodd%22%2C%20%22lineCap%22%3A%20%22round%22%2C%20%22lineJoin%22%3A%20%22round%22%2C%20%22opacity%22%3A%201.0%2C%20%22radius%22%3A%2036865.134999999886%2C%20%22stroke%22%3A%20true%2C%20%22weight%22%3A%203%7D%0A%20%20%20%20%20%20%20%20%20%20%20%20%29.addTo%28map_56c05dbdcf274bd5baa0f4d7bbf6d565%29%3B%0A%20%20%20%20%20%20%20%20%0A%20%20%20%20%0A%20%20%20%20%20%20%20%20var%20popup_d6c95e1a30454b338436d67372fe0f6e%20%3D%20L.popup%28%7B%22maxWidth%22%3A%20%22100%25%22%7D%29%3B%0A%0A%20%20%20%20%20%20%20%20%0A%20%20%20%20%20%20%20%20%20%20%20%20var%20html_9431d30d031845faa6343e5068318ee2%20%3D%20%24%28%60%3Cdiv%20id%3D%22html_9431d30d031845faa6343e5068318ee2%22%20style%3D%22width%3A%20100.0%25%3B%20height%3A%20100.0%25%3B%22%3EPB%3C/div%3E%60%29%5B0%5D%3B%0A%20%20%20%20%20%20%20%20%20%20%20%20popup_d6c95e1a30454b338436d67372fe0f6e.setContent%28html_9431d30d031845faa6343e5068318ee2%29%3B%0A%20%20%20%20%20%20%20%20%0A%0A%20%20%20%20%20%20%20%20circle_8819bae9f19f495ba03d567a32b763cd.bindPopup%28popup_d6c95e1a30454b338436d67372fe0f6e%29%0A%20%20%20%20%20%20%20%20%3B%0A%0A%20%20%20%20%20%20%20%20%0A%20%20%20%20%0A%20%20%20%20%0A%20%20%20%20%20%20%20%20%20%20%20%20circle_8819bae9f19f495ba03d567a32b763cd.bindTooltip%28%0A%20%20%20%20%20%20%20%20%20%20%20%20%20%20%20%20%60%3Cdiv%3E%0A%20%20%20%20%20%20%20%20%20%20%20%20%20%20%20%20%20%20%20%20%20PB%20Total%3A%2073730.27%20kw%20de%20pot%C3%AAncia%20instalada.%0A%20%20%20%20%20%20%20%20%20%20%20%20%20%20%20%20%20%3C/div%3E%60%2C%0A%20%20%20%20%20%20%20%20%20%20%20%20%20%20%20%20%7B%22sticky%22%3A%20true%7D%0A%20%20%20%20%20%20%20%20%20%20%20%20%29%3B%0A%20%20%20%20%20%20%20%20%0A%20%20%20%20%0A%20%20%20%20%20%20%20%20%20%20%20%20var%20circle_6ab4dee66abd4ec6953cda30f9d1c85a%20%3D%20L.circle%28%0A%20%20%20%20%20%20%20%20%20%20%20%20%20%20%20%20%5B-6.6%2C%20-42.28%5D%2C%0A%20%20%20%20%20%20%20%20%20%20%20%20%20%20%20%20%7B%22bubblingMouseEvents%22%3A%20true%2C%20%22color%22%3A%20%22%2369b3a2%22%2C%20%22dashArray%22%3A%20null%2C%20%22dashOffset%22%3A%20null%2C%20%22fill%22%3A%20true%2C%20%22fillColor%22%3A%20%22%2369b3a2%22%2C%20%22fillOpacity%22%3A%200.2%2C%20%22fillRule%22%3A%20%22evenodd%22%2C%20%22lineCap%22%3A%20%22round%22%2C%20%22lineJoin%22%3A%20%22round%22%2C%20%22opacity%22%3A%201.0%2C%20%22radius%22%3A%2035900.59499999973%2C%20%22stroke%22%3A%20true%2C%20%22weight%22%3A%203%7D%0A%20%20%20%20%20%20%20%20%20%20%20%20%29.addTo%28map_56c05dbdcf274bd5baa0f4d7bbf6d565%29%3B%0A%20%20%20%20%20%20%20%20%0A%20%20%20%20%0A%20%20%20%20%20%20%20%20var%20popup_43c62b02dfc0458ba7662072743bf93c%20%3D%20L.popup%28%7B%22maxWidth%22%3A%20%22100%25%22%7D%29%3B%0A%0A%20%20%20%20%20%20%20%20%0A%20%20%20%20%20%20%20%20%20%20%20%20var%20html_524ed571145d4875b36c916cec3d6697%20%3D%20%24%28%60%3Cdiv%20id%3D%22html_524ed571145d4875b36c916cec3d6697%22%20style%3D%22width%3A%20100.0%25%3B%20height%3A%20100.0%25%3B%22%3EPI%3C/div%3E%60%29%5B0%5D%3B%0A%20%20%20%20%20%20%20%20%20%20%20%20popup_43c62b02dfc0458ba7662072743bf93c.setContent%28html_524ed571145d4875b36c916cec3d6697%29%3B%0A%20%20%20%20%20%20%20%20%0A%0A%20%20%20%20%20%20%20%20circle_6ab4dee66abd4ec6953cda30f9d1c85a.bindPopup%28popup_43c62b02dfc0458ba7662072743bf93c%29%0A%20%20%20%20%20%20%20%20%3B%0A%0A%20%20%20%20%20%20%20%20%0A%20%20%20%20%0A%20%20%20%20%0A%20%20%20%20%20%20%20%20%20%20%20%20circle_6ab4dee66abd4ec6953cda30f9d1c85a.bindTooltip%28%0A%20%20%20%20%20%20%20%20%20%20%20%20%20%20%20%20%60%3Cdiv%3E%0A%20%20%20%20%20%20%20%20%20%20%20%20%20%20%20%20%20%20%20%20%20PI%20Total%3A%2071801.19%20kw%20de%20pot%C3%AAncia%20instalada.%0A%20%20%20%20%20%20%20%20%20%20%20%20%20%20%20%20%20%3C/div%3E%60%2C%0A%20%20%20%20%20%20%20%20%20%20%20%20%20%20%20%20%7B%22sticky%22%3A%20true%7D%0A%20%20%20%20%20%20%20%20%20%20%20%20%29%3B%0A%20%20%20%20%20%20%20%20%0A%20%20%20%20%0A%20%20%20%20%20%20%20%20%20%20%20%20var%20circle_451726f4e0e54f2e8dc04cbccbdaade1%20%3D%20L.circle%28%0A%20%20%20%20%20%20%20%20%20%20%20%20%20%20%20%20%5B-5.81%2C%20-36.59%5D%2C%0A%20%20%20%20%20%20%20%20%20%20%20%20%20%20%20%20%7B%22bubblingMouseEvents%22%3A%20true%2C%20%22color%22%3A%20%22%2369b3a2%22%2C%20%22dashArray%22%3A%20null%2C%20%22dashOffset%22%3A%20null%2C%20%22fill%22%3A%20true%2C%20%22fillColor%22%3A%20%22%2369b3a2%22%2C%20%22fillOpacity%22%3A%200.2%2C%20%22fillRule%22%3A%20%22evenodd%22%2C%20%22lineCap%22%3A%20%22round%22%2C%20%22lineJoin%22%3A%20%22round%22%2C%20%22opacity%22%3A%201.0%2C%20%22radius%22%3A%2038420.90999999987%2C%20%22stroke%22%3A%20true%2C%20%22weight%22%3A%203%7D%0A%20%20%20%20%20%20%20%20%20%20%20%20%29.addTo%28map_56c05dbdcf274bd5baa0f4d7bbf6d565%29%3B%0A%20%20%20%20%20%20%20%20%0A%20%20%20%20%0A%20%20%20%20%20%20%20%20var%20popup_8c429d5c62284bc6ae5bbc1ca12f69e3%20%3D%20L.popup%28%7B%22maxWidth%22%3A%20%22100%25%22%7D%29%3B%0A%0A%20%20%20%20%20%20%20%20%0A%20%20%20%20%20%20%20%20%20%20%20%20var%20html_4fe01dc3951842e8bade96703c608456%20%3D%20%24%28%60%3Cdiv%20id%3D%22html_4fe01dc3951842e8bade96703c608456%22%20style%3D%22width%3A%20100.0%25%3B%20height%3A%20100.0%25%3B%22%3ERN%3C/div%3E%60%29%5B0%5D%3B%0A%20%20%20%20%20%20%20%20%20%20%20%20popup_8c429d5c62284bc6ae5bbc1ca12f69e3.setContent%28html_4fe01dc3951842e8bade96703c608456%29%3B%0A%20%20%20%20%20%20%20%20%0A%0A%20%20%20%20%20%20%20%20circle_451726f4e0e54f2e8dc04cbccbdaade1.bindPopup%28popup_8c429d5c62284bc6ae5bbc1ca12f69e3%29%0A%20%20%20%20%20%20%20%20%3B%0A%0A%20%20%20%20%20%20%20%20%0A%20%20%20%20%0A%20%20%20%20%0A%20%20%20%20%20%20%20%20%20%20%20%20circle_451726f4e0e54f2e8dc04cbccbdaade1.bindTooltip%28%0A%20%20%20%20%20%20%20%20%20%20%20%20%20%20%20%20%60%3Cdiv%3E%0A%20%20%20%20%20%20%20%20%20%20%20%20%20%20%20%20%20%20%20%20%20RN%20Total%3A%2076841.82%20kw%20de%20pot%C3%AAncia%20instalada.%0A%20%20%20%20%20%20%20%20%20%20%20%20%20%20%20%20%20%3C/div%3E%60%2C%0A%20%20%20%20%20%20%20%20%20%20%20%20%20%20%20%20%7B%22sticky%22%3A%20true%7D%0A%20%20%20%20%20%20%20%20%20%20%20%20%29%3B%0A%20%20%20%20%20%20%20%20%0A%20%20%20%20%0A%20%20%20%20%20%20%20%20%20%20%20%20var%20circle_41654cdcc645454ca09400ca149df231%20%3D%20L.circle%28%0A%20%20%20%20%20%20%20%20%20%20%20%20%20%20%20%20%5B-5.42%2C%20-45.44%5D%2C%0A%20%20%20%20%20%20%20%20%20%20%20%20%20%20%20%20%7B%22bubblingMouseEvents%22%3A%20true%2C%20%22color%22%3A%20%22%2369b3a2%22%2C%20%22dashArray%22%3A%20null%2C%20%22dashOffset%22%3A%20null%2C%20%22fill%22%3A%20true%2C%20%22fillColor%22%3A%20%22%2369b3a2%22%2C%20%22fillOpacity%22%3A%200.2%2C%20%22fillRule%22%3A%20%22evenodd%22%2C%20%22lineCap%22%3A%20%22round%22%2C%20%22lineJoin%22%3A%20%22round%22%2C%20%22opacity%22%3A%201.0%2C%20%22radius%22%3A%2016887.250000000025%2C%20%22stroke%22%3A%20true%2C%20%22weight%22%3A%203%7D%0A%20%20%20%20%20%20%20%20%20%20%20%20%29.addTo%28map_56c05dbdcf274bd5baa0f4d7bbf6d565%29%3B%0A%20%20%20%20%20%20%20%20%0A%20%20%20%20%0A%20%20%20%20%20%20%20%20var%20popup_36a60634b143469d8d85f585f5da2a2a%20%3D%20L.popup%28%7B%22maxWidth%22%3A%20%22100%25%22%7D%29%3B%0A%0A%20%20%20%20%20%20%20%20%0A%20%20%20%20%20%20%20%20%20%20%20%20var%20html_616c114f873f4199a5041e2656c80586%20%3D%20%24%28%60%3Cdiv%20id%3D%22html_616c114f873f4199a5041e2656c80586%22%20style%3D%22width%3A%20100.0%25%3B%20height%3A%20100.0%25%3B%22%3EMA%3C/div%3E%60%29%5B0%5D%3B%0A%20%20%20%20%20%20%20%20%20%20%20%20popup_36a60634b143469d8d85f585f5da2a2a.setContent%28html_616c114f873f4199a5041e2656c80586%29%3B%0A%20%20%20%20%20%20%20%20%0A%0A%20%20%20%20%20%20%20%20circle_41654cdcc645454ca09400ca149df231.bindPopup%28popup_36a60634b143469d8d85f585f5da2a2a%29%0A%20%20%20%20%20%20%20%20%3B%0A%0A%20%20%20%20%20%20%20%20%0A%20%20%20%20%0A%20%20%20%20%0A%20%20%20%20%20%20%20%20%20%20%20%20circle_41654cdcc645454ca09400ca149df231.bindTooltip%28%0A%20%20%20%20%20%20%20%20%20%20%20%20%20%20%20%20%60%3Cdiv%3E%0A%20%20%20%20%20%20%20%20%20%20%20%20%20%20%20%20%20%20%20%20%20MA%20Total%3A%2033774.50%20kw%20de%20pot%C3%AAncia%20instalada.%0A%20%20%20%20%20%20%20%20%20%20%20%20%20%20%20%20%20%3C/div%3E%60%2C%0A%20%20%20%20%20%20%20%20%20%20%20%20%20%20%20%20%7B%22sticky%22%3A%20true%7D%0A%20%20%20%20%20%20%20%20%20%20%20%20%29%3B%0A%20%20%20%20%20%20%20%20%0A%20%20%20%20%0A%20%20%20%20%20%20%20%20%20%20%20%20var%20circle_81ba51a399be402794d36ba2b69c50e4%20%3D%20L.circle%28%0A%20%20%20%20%20%20%20%20%20%20%20%20%20%20%20%20%5B-5.2%2C%20-39.53%5D%2C%0A%20%20%20%20%20%20%20%20%20%20%20%20%20%20%20%20%7B%22bubblingMouseEvents%22%3A%20true%2C%20%22color%22%3A%20%22%2369b3a2%22%2C%20%22dashArray%22%3A%20null%2C%20%22dashOffset%22%3A%20null%2C%20%22fill%22%3A%20true%2C%20%22fillColor%22%3A%20%22%2369b3a2%22%2C%20%22fillOpacity%22%3A%200.2%2C%20%22fillRule%22%3A%20%22evenodd%22%2C%20%22lineCap%22%3A%20%22round%22%2C%20%22lineJoin%22%3A%20%22round%22%2C%20%22opacity%22%3A%201.0%2C%20%22radius%22%3A%2067716.61499999996%2C%20%22stroke%22%3A%20true%2C%20%22weight%22%3A%203%7D%0A%20%20%20%20%20%20%20%20%20%20%20%20%29.addTo%28map_56c05dbdcf274bd5baa0f4d7bbf6d565%29%3B%0A%20%20%20%20%20%20%20%20%0A%20%20%20%20%0A%20%20%20%20%20%20%20%20var%20popup_577bdaf4c92b4e7d821e77fd72316049%20%3D%20L.popup%28%7B%22maxWidth%22%3A%20%22100%25%22%7D%29%3B%0A%0A%20%20%20%20%20%20%20%20%0A%20%20%20%20%20%20%20%20%20%20%20%20var%20html_6e04f13b67874588a54382eda5b8e941%20%3D%20%24%28%60%3Cdiv%20id%3D%22html_6e04f13b67874588a54382eda5b8e941%22%20style%3D%22width%3A%20100.0%25%3B%20height%3A%20100.0%25%3B%22%3ECE%3C/div%3E%60%29%5B0%5D%3B%0A%20%20%20%20%20%20%20%20%20%20%20%20popup_577bdaf4c92b4e7d821e77fd72316049.setContent%28html_6e04f13b67874588a54382eda5b8e941%29%3B%0A%20%20%20%20%20%20%20%20%0A%0A%20%20%20%20%20%20%20%20circle_81ba51a399be402794d36ba2b69c50e4.bindPopup%28popup_577bdaf4c92b4e7d821e77fd72316049%29%0A%20%20%20%20%20%20%20%20%3B%0A%0A%20%20%20%20%20%20%20%20%0A%20%20%20%20%0A%20%20%20%20%0A%20%20%20%20%20%20%20%20%20%20%20%20circle_81ba51a399be402794d36ba2b69c50e4.bindTooltip%28%0A%20%20%20%20%20%20%20%20%20%20%20%20%20%20%20%20%60%3Cdiv%3E%0A%20%20%20%20%20%20%20%20%20%20%20%20%20%20%20%20%20%20%20%20%20CE%20Total%3A%20135433.23%20kw%20de%20pot%C3%AAncia%20instalada.%0A%20%20%20%20%20%20%20%20%20%20%20%20%20%20%20%20%20%3C/div%3E%60%2C%0A%20%20%20%20%20%20%20%20%20%20%20%20%20%20%20%20%7B%22sticky%22%3A%20true%7D%0A%20%20%20%20%20%20%20%20%20%20%20%20%29%3B%0A%20%20%20%20%20%20%20%20%0A%20%20%20%20%0A%20%20%20%20%20%20%20%20%20%20%20%20var%20circle_9fcee3c1fe3741919c9ce9186b1aa0e8%20%3D%20L.circle%28%0A%20%20%20%20%20%20%20%20%20%20%20%20%20%20%20%20%5B-3.79%2C%20-52.48%5D%2C%0A%20%20%20%20%20%20%20%20%20%20%20%20%20%20%20%20%7B%22bubblingMouseEvents%22%3A%20true%2C%20%22color%22%3A%20%22%2369b3a2%22%2C%20%22dashArray%22%3A%20null%2C%20%22dashOffset%22%3A%20null%2C%20%22fill%22%3A%20true%2C%20%22fillColor%22%3A%20%22%2369b3a2%22%2C%20%22fillOpacity%22%3A%200.2%2C%20%22fillRule%22%3A%20%22evenodd%22%2C%20%22lineCap%22%3A%20%22round%22%2C%20%22lineJoin%22%3A%20%22round%22%2C%20%22opacity%22%3A%201.0%2C%20%22radius%22%3A%2028234.78999999987%2C%20%22stroke%22%3A%20true%2C%20%22weight%22%3A%203%7D%0A%20%20%20%20%20%20%20%20%20%20%20%20%29.addTo%28map_56c05dbdcf274bd5baa0f4d7bbf6d565%29%3B%0A%20%20%20%20%20%20%20%20%0A%20%20%20%20%0A%20%20%20%20%20%20%20%20var%20popup_af155525e0cc4a45a8d6de4743a7c6cd%20%3D%20L.popup%28%7B%22maxWidth%22%3A%20%22100%25%22%7D%29%3B%0A%0A%20%20%20%20%20%20%20%20%0A%20%20%20%20%20%20%20%20%20%20%20%20var%20html_3123af46601b487bbff48b8c131dab01%20%3D%20%24%28%60%3Cdiv%20id%3D%22html_3123af46601b487bbff48b8c131dab01%22%20style%3D%22width%3A%20100.0%25%3B%20height%3A%20100.0%25%3B%22%3EPA%3C/div%3E%60%29%5B0%5D%3B%0A%20%20%20%20%20%20%20%20%20%20%20%20popup_af155525e0cc4a45a8d6de4743a7c6cd.setContent%28html_3123af46601b487bbff48b8c131dab01%29%3B%0A%20%20%20%20%20%20%20%20%0A%0A%20%20%20%20%20%20%20%20circle_9fcee3c1fe3741919c9ce9186b1aa0e8.bindPopup%28popup_af155525e0cc4a45a8d6de4743a7c6cd%29%0A%20%20%20%20%20%20%20%20%3B%0A%0A%20%20%20%20%20%20%20%20%0A%20%20%20%20%0A%20%20%20%20%0A%20%20%20%20%20%20%20%20%20%20%20%20circle_9fcee3c1fe3741919c9ce9186b1aa0e8.bindTooltip%28%0A%20%20%20%20%20%20%20%20%20%20%20%20%20%20%20%20%60%3Cdiv%3E%0A%20%20%20%20%20%20%20%20%20%20%20%20%20%20%20%20%20%20%20%20%20PA%20Total%3A%2056469.58%20kw%20de%20pot%C3%AAncia%20instalada.%0A%20%20%20%20%20%20%20%20%20%20%20%20%20%20%20%20%20%3C/div%3E%60%2C%0A%20%20%20%20%20%20%20%20%20%20%20%20%20%20%20%20%7B%22sticky%22%3A%20true%7D%0A%20%20%20%20%20%20%20%20%20%20%20%20%29%3B%0A%20%20%20%20%20%20%20%20%0A%20%20%20%20%0A%20%20%20%20%20%20%20%20%20%20%20%20var%20circle_df1ee58fca79472fa9984eb79cac2b01%20%3D%20L.circle%28%0A%20%20%20%20%20%20%20%20%20%20%20%20%20%20%20%20%5B-3.47%2C%20-65.1%5D%2C%0A%20%20%20%20%20%20%20%20%20%20%20%20%20%20%20%20%7B%22bubblingMouseEvents%22%3A%20true%2C%20%22color%22%3A%20%22%2369b3a2%22%2C%20%22dashArray%22%3A%20null%2C%20%22dashOffset%22%3A%20null%2C%20%22fill%22%3A%20true%2C%20%22fillColor%22%3A%20%22%2369b3a2%22%2C%20%22fillOpacity%22%3A%200.2%2C%20%22fillRule%22%3A%20%22evenodd%22%2C%20%22lineCap%22%3A%20%22round%22%2C%20%22lineJoin%22%3A%20%22round%22%2C%20%22opacity%22%3A%201.0%2C%20%22radius%22%3A%209192.250000000018%2C%20%22stroke%22%3A%20true%2C%20%22weight%22%3A%203%7D%0A%20%20%20%20%20%20%20%20%20%20%20%20%29.addTo%28map_56c05dbdcf274bd5baa0f4d7bbf6d565%29%3B%0A%20%20%20%20%20%20%20%20%0A%20%20%20%20%0A%20%20%20%20%20%20%20%20var%20popup_1881bf5c8fda4828b1e4845759626625%20%3D%20L.popup%28%7B%22maxWidth%22%3A%20%22100%25%22%7D%29%3B%0A%0A%20%20%20%20%20%20%20%20%0A%20%20%20%20%20%20%20%20%20%20%20%20var%20html_a0b29d5660cb4489b542a05e21449959%20%3D%20%24%28%60%3Cdiv%20id%3D%22html_a0b29d5660cb4489b542a05e21449959%22%20style%3D%22width%3A%20100.0%25%3B%20height%3A%20100.0%25%3B%22%3EAM%3C/div%3E%60%29%5B0%5D%3B%0A%20%20%20%20%20%20%20%20%20%20%20%20popup_1881bf5c8fda4828b1e4845759626625.setContent%28html_a0b29d5660cb4489b542a05e21449959%29%3B%0A%20%20%20%20%20%20%20%20%0A%0A%20%20%20%20%20%20%20%20circle_df1ee58fca79472fa9984eb79cac2b01.bindPopup%28popup_1881bf5c8fda4828b1e4845759626625%29%0A%20%20%20%20%20%20%20%20%3B%0A%0A%20%20%20%20%20%20%20%20%0A%20%20%20%20%0A%20%20%20%20%0A%20%20%20%20%20%20%20%20%20%20%20%20circle_df1ee58fca79472fa9984eb79cac2b01.bindTooltip%28%0A%20%20%20%20%20%20%20%20%20%20%20%20%20%20%20%20%60%3Cdiv%3E%0A%20%20%20%20%20%20%20%20%20%20%20%20%20%20%20%20%20%20%20%20%20AM%20Total%3A%2018384.50%20kw%20de%20pot%C3%AAncia%20instalada.%0A%20%20%20%20%20%20%20%20%20%20%20%20%20%20%20%20%20%3C/div%3E%60%2C%0A%20%20%20%20%20%20%20%20%20%20%20%20%20%20%20%20%7B%22sticky%22%3A%20true%7D%0A%20%20%20%20%20%20%20%20%20%20%20%20%29%3B%0A%20%20%20%20%20%20%20%20%0A%20%20%20%20%0A%20%20%20%20%20%20%20%20%20%20%20%20var%20circle_fb2f3dda5e5d411598da3bb1a472e00e%20%3D%20L.circle%28%0A%20%20%20%20%20%20%20%20%20%20%20%20%20%20%20%20%5B1.41%2C%20-51.77%5D%2C%0A%20%20%20%20%20%20%20%20%20%20%20%20%20%20%20%20%7B%22bubblingMouseEvents%22%3A%20true%2C%20%22color%22%3A%20%22%2369b3a2%22%2C%20%22dashArray%22%3A%20null%2C%20%22dashOffset%22%3A%20null%2C%20%22fill%22%3A%20true%2C%20%22fillColor%22%3A%20%22%2369b3a2%22%2C%20%22fillOpacity%22%3A%200.2%2C%20%22fillRule%22%3A%20%22evenodd%22%2C%20%22lineCap%22%3A%20%22round%22%2C%20%22lineJoin%22%3A%20%22round%22%2C%20%22opacity%22%3A%201.0%2C%20%22radius%22%3A%202569.5450000000005%2C%20%22stroke%22%3A%20true%2C%20%22weight%22%3A%203%7D%0A%20%20%20%20%20%20%20%20%20%20%20%20%29.addTo%28map_56c05dbdcf274bd5baa0f4d7bbf6d565%29%3B%0A%20%20%20%20%20%20%20%20%0A%20%20%20%20%0A%20%20%20%20%20%20%20%20var%20popup_e379dda1dbaf483dafb0bccdc0b1e3d4%20%3D%20L.popup%28%7B%22maxWidth%22%3A%20%22100%25%22%7D%29%3B%0A%0A%20%20%20%20%20%20%20%20%0A%20%20%20%20%20%20%20%20%20%20%20%20var%20html_d10187a6d8d24ac2a6874880062d346a%20%3D%20%24%28%60%3Cdiv%20id%3D%22html_d10187a6d8d24ac2a6874880062d346a%22%20style%3D%22width%3A%20100.0%25%3B%20height%3A%20100.0%25%3B%22%3EAP%3C/div%3E%60%29%5B0%5D%3B%0A%20%20%20%20%20%20%20%20%20%20%20%20popup_e379dda1dbaf483dafb0bccdc0b1e3d4.setContent%28html_d10187a6d8d24ac2a6874880062d346a%29%3B%0A%20%20%20%20%20%20%20%20%0A%0A%20%20%20%20%20%20%20%20circle_fb2f3dda5e5d411598da3bb1a472e00e.bindPopup%28popup_e379dda1dbaf483dafb0bccdc0b1e3d4%29%0A%20%20%20%20%20%20%20%20%3B%0A%0A%20%20%20%20%20%20%20%20%0A%20%20%20%20%0A%20%20%20%20%0A%20%20%20%20%20%20%20%20%20%20%20%20circle_fb2f3dda5e5d411598da3bb1a472e00e.bindTooltip%28%0A%20%20%20%20%20%20%20%20%20%20%20%20%20%20%20%20%60%3Cdiv%3E%0A%20%20%20%20%20%20%20%20%20%20%20%20%20%20%20%20%20%20%20%20%20AP%20Total%3A%205139.09%20kw%20de%20pot%C3%AAncia%20instalada.%0A%20%20%20%20%20%20%20%20%20%20%20%20%20%20%20%20%20%3C/div%3E%60%2C%0A%20%20%20%20%20%20%20%20%20%20%20%20%20%20%20%20%7B%22sticky%22%3A%20true%7D%0A%20%20%20%20%20%20%20%20%20%20%20%20%29%3B%0A%20%20%20%20%20%20%20%20%0A%20%20%20%20%0A%20%20%20%20%20%20%20%20%20%20%20%20var%20circle_7a4420d785624d5db139abdbd5f6469a%20%3D%20L.circle%28%0A%20%20%20%20%20%20%20%20%20%20%20%20%20%20%20%20%5B1.99%2C%20-61.33%5D%2C%0A%20%20%20%20%20%20%20%20%20%20%20%20%20%20%20%20%7B%22bubblingMouseEvents%22%3A%20true%2C%20%22color%22%3A%20%22%2369b3a2%22%2C%20%22dashArray%22%3A%20null%2C%20%22dashOffset%22%3A%20null%2C%20%22fill%22%3A%20true%2C%20%22fillColor%22%3A%20%22%2369b3a2%22%2C%20%22fillOpacity%22%3A%200.2%2C%20%22fillRule%22%3A%20%22evenodd%22%2C%20%22lineCap%22%3A%20%22round%22%2C%20%22lineJoin%22%3A%20%22round%22%2C%20%22opacity%22%3A%201.0%2C%20%22radius%22%3A%201369.7099999999994%2C%20%22stroke%22%3A%20true%2C%20%22weight%22%3A%203%7D%0A%20%20%20%20%20%20%20%20%20%20%20%20%29.addTo%28map_56c05dbdcf274bd5baa0f4d7bbf6d565%29%3B%0A%20%20%20%20%20%20%20%20%0A%20%20%20%20%0A%20%20%20%20%20%20%20%20var%20popup_ac360945c8a642f3a2e2e69576208848%20%3D%20L.popup%28%7B%22maxWidth%22%3A%20%22100%25%22%7D%29%3B%0A%0A%20%20%20%20%20%20%20%20%0A%20%20%20%20%20%20%20%20%20%20%20%20var%20html_dab12bdca8704d009782c0af90f41159%20%3D%20%24%28%60%3Cdiv%20id%3D%22html_dab12bdca8704d009782c0af90f41159%22%20style%3D%22width%3A%20100.0%25%3B%20height%3A%20100.0%25%3B%22%3ERR%3C/div%3E%60%29%5B0%5D%3B%0A%20%20%20%20%20%20%20%20%20%20%20%20popup_ac360945c8a642f3a2e2e69576208848.setContent%28html_dab12bdca8704d009782c0af90f41159%29%3B%0A%20%20%20%20%20%20%20%20%0A%0A%20%20%20%20%20%20%20%20circle_7a4420d785624d5db139abdbd5f6469a.bindPopup%28popup_ac360945c8a642f3a2e2e69576208848%29%0A%20%20%20%20%20%20%20%20%3B%0A%0A%20%20%20%20%20%20%20%20%0A%20%20%20%20%0A%20%20%20%20%0A%20%20%20%20%20%20%20%20%20%20%20%20circle_7a4420d785624d5db139abdbd5f6469a.bindTooltip%28%0A%20%20%20%20%20%20%20%20%20%20%20%20%20%20%20%20%60%3Cdiv%3E%0A%20%20%20%20%20%20%20%20%20%20%20%20%20%20%20%20%20%20%20%20%20RR%20Total%3A%202739.42%20kw%20de%20pot%C3%AAncia%20instalada.%0A%20%20%20%20%20%20%20%20%20%20%20%20%20%20%20%20%20%3C/div%3E%60%2C%0A%20%20%20%20%20%20%20%20%20%20%20%20%20%20%20%20%7B%22sticky%22%3A%20true%7D%0A%20%20%20%20%20%20%20%20%20%20%20%20%29%3B%0A%20%20%20%20%20%20%20%20%0A%3C/script%3E onload=\"this.contentDocument.open();this.contentDocument.write(    decodeURIComponent(this.getAttribute('data-html')));this.contentDocument.close();\" allowfullscreen webkitallowfullscreen mozallowfullscreen></iframe></div></div>"
      ],
      "text/plain": [
       "<folium.folium.Map at 0x2bbd7f08a30>"
      ]
     },
     "execution_count": 35,
     "metadata": {},
     "output_type": "execute_result"
    }
   ],
   "source": [
    "# Para efeito de comparação entre os estados o mapa é muito útil. \n",
    "# O folium permite a geração de mapas interativos que podem ser redimensionados e também permite zoom.\n",
    "\n",
    "mapa"
   ]
  },
  {
   "cell_type": "markdown",
   "id": "95d4c05b-b62a-479a-b20a-5614bc392646",
   "metadata": {},
   "source": [
    "Os círculos em verde dão a dimensão da potência instalada por estado. Podemos destacar MG, SP e o RS como grandes centros de geração de energia distribuída."
   ]
  },
  {
   "cell_type": "code",
   "execution_count": 36,
   "id": "9bddf91b-7b69-4dce-990e-987d020d5d40",
   "metadata": {},
   "outputs": [],
   "source": [
    "# Salvando o mapa.\n",
    "\n",
    "mapa.save('MapaGeracaoDistribuida.html')"
   ]
  },
  {
   "cell_type": "markdown",
   "id": "554bef80-6f13-4279-8640-d4937f618b3f",
   "metadata": {},
   "source": [
    "### Analisando as distribuidoras responsáveis pela conexão com a rede."
   ]
  },
  {
   "cell_type": "code",
   "execution_count": 37,
   "id": "2487dd3e-585c-4fa9-b9cb-c102df0138d4",
   "metadata": {},
   "outputs": [
    {
     "data": {
      "text/html": [
       "<div>\n",
       "<style scoped>\n",
       "    .dataframe tbody tr th:only-of-type {\n",
       "        vertical-align: middle;\n",
       "    }\n",
       "\n",
       "    .dataframe tbody tr th {\n",
       "        vertical-align: top;\n",
       "    }\n",
       "\n",
       "    .dataframe thead th {\n",
       "        text-align: right;\n",
       "    }\n",
       "</style>\n",
       "<table border=\"1\" class=\"dataframe\">\n",
       "  <thead>\n",
       "    <tr style=\"text-align: right;\">\n",
       "      <th></th>\n",
       "      <th>Total</th>\n",
       "    </tr>\n",
       "    <tr>\n",
       "      <th>nomDistribuidora</th>\n",
       "      <th></th>\n",
       "    </tr>\n",
       "  </thead>\n",
       "  <tbody>\n",
       "    <tr>\n",
       "      <th>CEMIG DISTRIBUIÇÃO S.A</th>\n",
       "      <td>61043</td>\n",
       "    </tr>\n",
       "    <tr>\n",
       "      <th>RGE SUL DISTRIBUIDORA DE ENERGIA S.A.</th>\n",
       "      <td>30805</td>\n",
       "    </tr>\n",
       "    <tr>\n",
       "      <th>COMPANHIA PAULISTA DE FORÇA E LUZ</th>\n",
       "      <td>21102</td>\n",
       "    </tr>\n",
       "    <tr>\n",
       "      <th>ENERGISA MATO GROSSO - DISTRIBUIDORA DE ENERGIA S.A.</th>\n",
       "      <td>17336</td>\n",
       "    </tr>\n",
       "    <tr>\n",
       "      <th>COPEL DISTRIBUIÇÃO S.A.</th>\n",
       "      <td>17134</td>\n",
       "    </tr>\n",
       "  </tbody>\n",
       "</table>\n",
       "</div>"
      ],
      "text/plain": [
       "                                                    Total\n",
       "nomDistribuidora                                         \n",
       "CEMIG DISTRIBUIÇÃO S.A                              61043\n",
       "RGE SUL DISTRIBUIDORA DE ENERGIA S.A.               30805\n",
       "COMPANHIA PAULISTA DE FORÇA E LUZ                   21102\n",
       "ENERGISA MATO GROSSO - DISTRIBUIDORA DE ENERGIA...  17336\n",
       "COPEL DISTRIBUIÇÃO S.A.                             17134"
      ]
     },
     "execution_count": 37,
     "metadata": {},
     "output_type": "execute_result"
    }
   ],
   "source": [
    "# Exibindo o total de empreendimento por distribuidora. Apenas as 5 primeiras.\n",
    "\n",
    "tabela = TabelaValores('nomDistribuidora')\n",
    "tabela[:5]"
   ]
  },
  {
   "cell_type": "code",
   "execution_count": 38,
   "id": "8dc2fde4-1ec9-448a-9dc0-35d38c7e8af1",
   "metadata": {},
   "outputs": [
    {
     "data": {
      "text/html": [
       "<div>\n",
       "<style scoped>\n",
       "    .dataframe tbody tr th:only-of-type {\n",
       "        vertical-align: middle;\n",
       "    }\n",
       "\n",
       "    .dataframe tbody tr th {\n",
       "        vertical-align: top;\n",
       "    }\n",
       "\n",
       "    .dataframe thead th {\n",
       "        text-align: right;\n",
       "    }\n",
       "</style>\n",
       "<table border=\"1\" class=\"dataframe\">\n",
       "  <thead>\n",
       "    <tr style=\"text-align: right;\">\n",
       "      <th></th>\n",
       "      <th>nomDistribuidora</th>\n",
       "      <th>mdaPotenciaInstaladaKW</th>\n",
       "    </tr>\n",
       "  </thead>\n",
       "  <tbody>\n",
       "    <tr>\n",
       "      <th>5</th>\n",
       "      <td>CEMIG DISTRIBUIÇÃO S.A</td>\n",
       "      <td>784160.96</td>\n",
       "    </tr>\n",
       "    <tr>\n",
       "      <th>104</th>\n",
       "      <td>RGE SUL DISTRIBUIDORA DE ENERGIA S.A.</td>\n",
       "      <td>350098.20</td>\n",
       "    </tr>\n",
       "    <tr>\n",
       "      <th>85</th>\n",
       "      <td>ENERGISA MATO GROSSO - DISTRIBUIDORA DE ENERGI...</td>\n",
       "      <td>319938.29</td>\n",
       "    </tr>\n",
       "    <tr>\n",
       "      <th>60</th>\n",
       "      <td>COPEL DISTRIBUIÇÃO S.A.</td>\n",
       "      <td>280703.01</td>\n",
       "    </tr>\n",
       "    <tr>\n",
       "      <th>4</th>\n",
       "      <td>CELG DISTRIBUIÇÃO S.A.</td>\n",
       "      <td>223520.31</td>\n",
       "    </tr>\n",
       "  </tbody>\n",
       "</table>\n",
       "</div>"
      ],
      "text/plain": [
       "                                      nomDistribuidora  mdaPotenciaInstaladaKW\n",
       "5                               CEMIG DISTRIBUIÇÃO S.A               784160.96\n",
       "104              RGE SUL DISTRIBUIDORA DE ENERGIA S.A.               350098.20\n",
       "85   ENERGISA MATO GROSSO - DISTRIBUIDORA DE ENERGI...               319938.29\n",
       "60                             COPEL DISTRIBUIÇÃO S.A.               280703.01\n",
       "4                               CELG DISTRIBUIÇÃO S.A.               223520.31"
      ]
     },
     "execution_count": 38,
     "metadata": {},
     "output_type": "execute_result"
    }
   ],
   "source": [
    "# Verificamos se o potência instalada acompanha o total por distribuidora. Exibindo apenas as 5 primeiras.\n",
    "\n",
    "dfDistr = dfGeracao.groupby(['nomDistribuidora'])['mdaPotenciaInstaladaKW'].sum().reset_index()\n",
    "dfDistr.sort_values('mdaPotenciaInstaladaKW', ascending = False)[:5]"
   ]
  },
  {
   "cell_type": "code",
   "execution_count": 39,
   "id": "a8166984-a8af-43c8-8dd9-e8aad0db043c",
   "metadata": {},
   "outputs": [
    {
     "data": {
      "text/html": [
       "<div>\n",
       "<style scoped>\n",
       "    .dataframe tbody tr th:only-of-type {\n",
       "        vertical-align: middle;\n",
       "    }\n",
       "\n",
       "    .dataframe tbody tr th {\n",
       "        vertical-align: top;\n",
       "    }\n",
       "\n",
       "    .dataframe thead th {\n",
       "        text-align: right;\n",
       "    }\n",
       "</style>\n",
       "<table border=\"1\" class=\"dataframe\">\n",
       "  <thead>\n",
       "    <tr style=\"text-align: right;\">\n",
       "      <th></th>\n",
       "      <th>nomDistribuidora</th>\n",
       "      <th>mdaPotenciaInstaladaKW</th>\n",
       "    </tr>\n",
       "  </thead>\n",
       "  <tbody>\n",
       "    <tr>\n",
       "      <th>5</th>\n",
       "      <td>CEMIG DISTRIBUIÇÃO S.A</td>\n",
       "      <td>784160.96</td>\n",
       "    </tr>\n",
       "    <tr>\n",
       "      <th>104</th>\n",
       "      <td>RGE SUL DISTRIBUIDORA DE ENERGIA S.A.</td>\n",
       "      <td>350098.20</td>\n",
       "    </tr>\n",
       "    <tr>\n",
       "      <th>85</th>\n",
       "      <td>ENERGISA MATO GROSSO - DISTRIBUIDORA DE ENERGI...</td>\n",
       "      <td>319938.29</td>\n",
       "    </tr>\n",
       "    <tr>\n",
       "      <th>60</th>\n",
       "      <td>COPEL DISTRIBUIÇÃO S.A.</td>\n",
       "      <td>280703.01</td>\n",
       "    </tr>\n",
       "    <tr>\n",
       "      <th>4</th>\n",
       "      <td>CELG DISTRIBUIÇÃO S.A.</td>\n",
       "      <td>223520.31</td>\n",
       "    </tr>\n",
       "    <tr>\n",
       "      <th>18</th>\n",
       "      <td>COMPANHIA PAULISTA DE FORÇA E LUZ</td>\n",
       "      <td>197717.54</td>\n",
       "    </tr>\n",
       "    <tr>\n",
       "      <th>3</th>\n",
       "      <td>CELESC DISTRIBUIÇÃO S.A</td>\n",
       "      <td>177202.65</td>\n",
       "    </tr>\n",
       "    <tr>\n",
       "      <th>11</th>\n",
       "      <td>COMPANHIA ENERGÉTICA DO CEARÁ</td>\n",
       "      <td>151854.04</td>\n",
       "    </tr>\n",
       "    <tr>\n",
       "      <th>9</th>\n",
       "      <td>COMPANHIA DE ELETRICIDADE DO ESTADO DA BAHIA</td>\n",
       "      <td>134929.23</td>\n",
       "    </tr>\n",
       "    <tr>\n",
       "      <th>78</th>\n",
       "      <td>ELEKTRO REDES S.A.</td>\n",
       "      <td>116017.25</td>\n",
       "    </tr>\n",
       "    <tr>\n",
       "      <th>10</th>\n",
       "      <td>COMPANHIA ENERGÉTICA DE PERNAMBUCO</td>\n",
       "      <td>110740.69</td>\n",
       "    </tr>\n",
       "    <tr>\n",
       "      <th>86</th>\n",
       "      <td>ENERGISA MATO GROSSO DO SUL - DISTRIBUIDORA DE...</td>\n",
       "      <td>106483.85</td>\n",
       "    </tr>\n",
       "    <tr>\n",
       "      <th>1</th>\n",
       "      <td>AMPLA ENERGIA E SERVIÇOS S.A.</td>\n",
       "      <td>87523.69</td>\n",
       "    </tr>\n",
       "    <tr>\n",
       "      <th>96</th>\n",
       "      <td>EQUATORIAL PIAUÍ DISTRIBUIDORA DE ENERGIA S.A</td>\n",
       "      <td>82135.14</td>\n",
       "    </tr>\n",
       "    <tr>\n",
       "      <th>13</th>\n",
       "      <td>COMPANHIA ENERGÉTICA DO RIO GRANDE DO NORTE CO...</td>\n",
       "      <td>78766.61</td>\n",
       "    </tr>\n",
       "    <tr>\n",
       "      <th>101</th>\n",
       "      <td>LIGHT SERVIÇOS DE ELETRICIDADE S A</td>\n",
       "      <td>75993.57</td>\n",
       "    </tr>\n",
       "    <tr>\n",
       "      <th>97</th>\n",
       "      <td>ESPÍRITO SANTO DISTRIBUIÇÃO DE ENERGIA S.A.</td>\n",
       "      <td>69481.84</td>\n",
       "    </tr>\n",
       "    <tr>\n",
       "      <th>92</th>\n",
       "      <td>ENERGISA SUL-SUDESTE - DISTRIBUIDORA DE ENERGI...</td>\n",
       "      <td>66319.41</td>\n",
       "    </tr>\n",
       "    <tr>\n",
       "      <th>14</th>\n",
       "      <td>COMPANHIA ESTADUAL DE DISTRIBUIÇÃO DE ENERGIA ...</td>\n",
       "      <td>65529.14</td>\n",
       "    </tr>\n",
       "    <tr>\n",
       "      <th>89</th>\n",
       "      <td>ENERGISA PARAÍBA - DISTRIBUIDORA DE ENERGIA S.A</td>\n",
       "      <td>65474.53</td>\n",
       "    </tr>\n",
       "  </tbody>\n",
       "</table>\n",
       "</div>"
      ],
      "text/plain": [
       "                                      nomDistribuidora  mdaPotenciaInstaladaKW\n",
       "5                               CEMIG DISTRIBUIÇÃO S.A               784160.96\n",
       "104              RGE SUL DISTRIBUIDORA DE ENERGIA S.A.               350098.20\n",
       "85   ENERGISA MATO GROSSO - DISTRIBUIDORA DE ENERGI...               319938.29\n",
       "60                             COPEL DISTRIBUIÇÃO S.A.               280703.01\n",
       "4                               CELG DISTRIBUIÇÃO S.A.               223520.31\n",
       "18                   COMPANHIA PAULISTA DE FORÇA E LUZ               197717.54\n",
       "3                              CELESC DISTRIBUIÇÃO S.A               177202.65\n",
       "11                       COMPANHIA ENERGÉTICA DO CEARÁ               151854.04\n",
       "9         COMPANHIA DE ELETRICIDADE DO ESTADO DA BAHIA               134929.23\n",
       "78                                  ELEKTRO REDES S.A.               116017.25\n",
       "10                  COMPANHIA ENERGÉTICA DE PERNAMBUCO               110740.69\n",
       "86   ENERGISA MATO GROSSO DO SUL - DISTRIBUIDORA DE...               106483.85\n",
       "1                        AMPLA ENERGIA E SERVIÇOS S.A.                87523.69\n",
       "96       EQUATORIAL PIAUÍ DISTRIBUIDORA DE ENERGIA S.A                82135.14\n",
       "13   COMPANHIA ENERGÉTICA DO RIO GRANDE DO NORTE CO...                78766.61\n",
       "101                 LIGHT SERVIÇOS DE ELETRICIDADE S A                75993.57\n",
       "97         ESPÍRITO SANTO DISTRIBUIÇÃO DE ENERGIA S.A.                69481.84\n",
       "92   ENERGISA SUL-SUDESTE - DISTRIBUIDORA DE ENERGI...                66319.41\n",
       "14   COMPANHIA ESTADUAL DE DISTRIBUIÇÃO DE ENERGIA ...                65529.14\n",
       "89     ENERGISA PARAÍBA - DISTRIBUIDORA DE ENERGIA S.A                65474.53"
      ]
     },
     "execution_count": 39,
     "metadata": {},
     "output_type": "execute_result"
    }
   ],
   "source": [
    "# Filtrando os dados com apenas as 20 primeiras distribuidoras com maior potência instalada.\n",
    "\n",
    "dfDistrT20 = dfDistr.sort_values('mdaPotenciaInstaladaKW', ascending = False).reindex()[:20]\n",
    "dfDistrT20"
   ]
  },
  {
   "cell_type": "code",
   "execution_count": 40,
   "id": "3b2a42a0-19d0-424e-b471-3b4cc08a576f",
   "metadata": {},
   "outputs": [
    {
     "data": {
      "image/png": "[encoded data removed]",
      "text/plain": [
       "<Figure size 864x432 with 1 Axes>"
      ]
     },
     "metadata": {},
     "output_type": "display_data"
    }
   ],
   "source": [
    "# Plotando um countplot com o total de potência instalada por distribudora.\n",
    "\n",
    "plt.figure(figsize = (12, 6))\n",
    "plt.title('Total de potência instalada por Distribuidora')\n",
    "ax = sns.barplot(x = 'nomDistribuidora', y = 'mdaPotenciaInstaladaKW', data = dfDistrT20, palette = 'Set2')\n",
    "ax.tick_params(axis = 'x', rotation = 90)\n",
    "plt.xlabel('')\n",
    "plt.ylabel('Potência instalada (kw)')\n",
    "plt.show()"
   ]
  },
  {
   "cell_type": "markdown",
   "id": "fc4de547-1265-46eb-bd8c-520d5d886aa7",
   "metadata": {},
   "source": [
    "Podemos ver que a CEMIG, distribuidora que atende à MG, é responsável tanto pelo maior número de empreendimentos conectados à rede quanto à potência instalada."
   ]
  },
  {
   "cell_type": "markdown",
   "id": "1b653cf4-bd77-49dc-a230-79f44337d67b",
   "metadata": {},
   "source": [
    "## Conclusão"
   ]
  },
  {
   "cell_type": "markdown",
   "id": "599c4391-94f4-44c2-9a54-17c6773d155a",
   "metadata": {},
   "source": [
    "Existem muitas possibilidades quando se trata de ciência de dados. Outras análises poderiam ser feitas se juntarmos por exemplo, dados demográficos dos estados e municípios, poderíamos fazer uma análise levando em conta a população, o número de residências e comércios. Poderíamos utilizar de outros tipos de gráficos, como heatmaps e eventualmente utilizar machine learning para tentar prever um valor de potência instalada. \n",
    "\n",
    "Lembrando que, esses dados são de novembro/2020 e o trabalho foi realizado em agosto/2021, portanto, dado ao crescimento do setor principalmente de energia solar, algum desses valores tanto de potência instalada quanto de número de empreendimentos podem ter sofrido alterações.\n",
    "\n",
    "Enfim, o Brasil tem enorme potencial para aproveitamento da irradiação solar que, em tempos de crises hídricas, pode fazer muita diferença."
   ]
  }
 ],
 "metadata": {
  "kernelspec": {
   "display_name": "Python 3",
   "language": "python",
   "name": "python3"
  },
  "language_info": {
   "codemirror_mode": {
    "name": "ipython",
    "version": 3
   },
   "file_extension": ".py",
   "mimetype": "text/x-python",
   "name": "python",
   "nbconvert_exporter": "python",
   "pygments_lexer": "ipython3",
   "version": "3.8.8"
  }
 },
 "nbformat": 4,
 "nbformat_minor": 5
}
